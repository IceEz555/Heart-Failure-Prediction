{
 "cells": [
  {
   "cell_type": "markdown",
   "id": "d00c60ee",
   "metadata": {
    "papermill": {
     "duration": 0.00904,
     "end_time": "2025-02-18T11:23:13.840464",
     "exception": false,
     "start_time": "2025-02-18T11:23:13.831424",
     "status": "completed"
    },
    "tags": []
   },
   "source": [
    "<div style=\"color:white;\n",
    "            display:fill;\n",
    "            border-radius:15px;\n",
    "            background-color:#3B6790;\n",
    "            font-size:100%;\n",
    "            font-family:Verdana;\n",
    "            letter-spacing:1px\">\n",
    "    <h1 style='padding: 20px;\n",
    "              color:white;\n",
    "              text-align:center;'>\n",
    "        Introduction\n",
    "    </h1>\n",
    "    </div>\n",
    "\n",
    "___\n",
    "## <font color=\"#09122C\">About Heart Failure:</font>\n",
    "<font color=\"#213555\">หัวใจล้มเหลวเกิดขึ้นเมื่อกล้ามเนื้อหัวใจสูบฉีดเลือดได้ไม่ดีเท่าที่ควร ทำให้เกิดอาการต่างๆ เช่น หายใจไม่สะดวก เหนื่อยล้า และมีของเหลวสะสมในปอดและเนื้อเยื่ออื่นๆ ภาวะนี้อาจเป็นผลมาจากปัจจัยต่างๆเช่น โรคหลอดเลือดหัวใจ ความดันโลหิตสูง และเบาหวาน.</font>\n",
    "\n",
    "## <font color=\"#09122C\">About the Dataset:</font>\n",
    "<font color=\"#213555\">ชุดข้อมูลการทำนายภาวะหัวใจล้มเหลวประกอบด้วยลักษณะทางคลินิก 11 รายการที่เกี่ยวข้องกับเหตุการณ์โรคหัวใจได้แก่:</font>\n",
    "\n",
    "1. <font color=\"#213555\">Age: อายุของผู้ป่วย  [ปี]</font>\n",
    "2. <font color=\"#213555\">Sex: เพศของผู้ป่วย [M: ชาย, F: หญิง] </font>\n",
    "3. <font color=\"#213555\">ChestPainTye: ประเภทของอาการเจ็บหน้าอก [TA: เจ็บหน้าอกแบบโรคหลอดเลือดหัวใจ , ATA: เจ็บหน้าอกแบบผิดปกติ , NAP: เจ็บหน้าอกที่ไม่เกี่ยวกับโรคหัวใจ , ASY: ไม่มีอาการเจ็บหน้าอก]</font>\n",
    "4. <font color=\"#213555\">RestingB: ค่าความดันโลหิตขณะพัก  [mm Hg]</font>\n",
    "5. <font color=\"#213555\">Cholestero: ค่าคอเลสเตอรอลในเลือด [mm/dl]</font>\n",
    "6. <font color=\"#213555\">FastingBS: ค่าน้ำตาลในเลือดขณะอดอาหาร [1: มากกว่า 120 > 120 mg/dl, 0: ไม่เกิน 120 mg/dL]</font>\n",
    "7. <font color=\"#213555\">RestingECG: ผลลัพธ์ของคลื่นไฟฟ้าหัวใจขณะพัก [Normal:ปกติ, ST: คลื่นไฟฟ้าหัวใจผิดปกติ (T wave inversions and/or ST elevation or depression of > 0.05 mV), LVH: มีภาวะกล้ามเนื้อหัวใจหนาตัว]</font>\n",
    "8. <font color=\"#213555\">MaxHR: อัตราการเต้นของหัวใจสูงสุดที่ทำได้ [Numeric value between 60 and 202]</font>\n",
    "9. <font color=\"#213555\">ExerciseAngina**: อาการเจ็บหน้าอกขณะออกกำลังกาย [Y: Yes, N: No]</font>\n",
    "10. <font color=\"#213555\">Oldpeak: ค่า ST depression  [ใช้ประเมินภาวะขาดเลือด]</font>\n",
    "11. <font color=\"#213555\">ST_Slope: ลักษณะความชันของ ST segment [Up: สูงขึ้น, Flat: คงที่, Down: ลดลง]</font>\n",
    "___"
   ]
  },
  {
   "cell_type": "markdown",
   "id": "a008a700",
   "metadata": {
    "papermill": {
     "duration": 0.008062,
     "end_time": "2025-02-18T11:23:13.857064",
     "exception": false,
     "start_time": "2025-02-18T11:23:13.849002",
     "status": "completed"
    },
    "tags": []
   },
   "source": [
    "<div style=\"color:white;\n",
    "            display:fill;\n",
    "            border-radius:15px;\n",
    "            background-color:#3B6790;\n",
    "            font-size:100%;\n",
    "            font-family:Verdana;\n",
    "            letter-spacing:1px\">\n",
    "    <h1 style='padding: 20px;\n",
    "              color:white;\n",
    "              text-align:center;'>\n",
    "        Reference code\n",
    "    </h1>\n",
    "    </div>\n",
    "    \n",
    "## Code from\n",
    "### - Heart Failure Prediction🫀🏥| Streamlit App ab0231 [click here](https://www.kaggle.com/code/ahmedismaiil/heart-failure-prediction-streamlit-app)\n",
    "    > Handling Missing Data\n",
    "    > Detection Outliers\n",
    "    > Data Preprocessing\n",
    "    > Model (Random Forest/Xgboost) เปลี่ยนเป็น Decision Tree\n",
    "    "
   ]
  },
  {
   "cell_type": "markdown",
   "id": "382ca839",
   "metadata": {
    "papermill": {
     "duration": 0.007957,
     "end_time": "2025-02-18T11:23:13.873836",
     "exception": false,
     "start_time": "2025-02-18T11:23:13.865879",
     "status": "completed"
    },
    "tags": []
   },
   "source": [
    "<div style=\"color:white;\n",
    "            display:fill;\n",
    "            border-radius:15px;\n",
    "            background-color:#3B6790;\n",
    "            font-size:100%;\n",
    "            font-family:Verdana;\n",
    "            letter-spacing:1px\">\n",
    "    <h1 style='padding: 20px;\n",
    "              color:white;\n",
    "              text-align:center;'>\n",
    "        Import Library\n",
    "    </h1>\n",
    "    </div>\n",
    "    "
   ]
  },
  {
   "cell_type": "code",
   "execution_count": 1,
   "id": "77eaeb45",
   "metadata": {
    "_cell_guid": "b1076dfc-b9ad-4769-8c92-a6c4dae69d19",
    "_uuid": "8f2839f25d086af736a60e9eeb907d3b93b6e0e5",
    "execution": {
     "iopub.execute_input": "2025-02-18T11:23:13.892850Z",
     "iopub.status.busy": "2025-02-18T11:23:13.892331Z",
     "iopub.status.idle": "2025-02-18T11:23:17.010054Z",
     "shell.execute_reply": "2025-02-18T11:23:17.008946Z"
    },
    "papermill": {
     "duration": 3.129754,
     "end_time": "2025-02-18T11:23:17.012172",
     "exception": false,
     "start_time": "2025-02-18T11:23:13.882418",
     "status": "completed"
    },
    "tags": []
   },
   "outputs": [],
   "source": [
    "import joblib\n",
    "import pandas as pd\n",
    "import numpy as np\n",
    "import matplotlib.pyplot as plt\n",
    "import seaborn as sns\n",
    "from sklearn.preprocessing import LabelEncoder\n",
    "from sklearn.model_selection import train_test_split\n",
    "from sklearn.tree import DecisionTreeClassifier, plot_tree, export_text\n",
    "from sklearn.model_selection import cross_val_score\n",
    "from sklearn.metrics import ConfusionMatrixDisplay, classification_report\n",
    "import warnings\n",
    "\n",
    "warnings.filterwarnings('ignore')"
   ]
  },
  {
   "cell_type": "markdown",
   "id": "e776c04e",
   "metadata": {
    "execution": {
     "iopub.execute_input": "2025-02-18T07:11:40.442683Z",
     "iopub.status.busy": "2025-02-18T07:11:40.442232Z",
     "iopub.status.idle": "2025-02-18T07:11:40.449193Z",
     "shell.execute_reply": "2025-02-18T07:11:40.447728Z",
     "shell.execute_reply.started": "2025-02-18T07:11:40.442651Z"
    },
    "papermill": {
     "duration": 0.008443,
     "end_time": "2025-02-18T11:23:17.029303",
     "exception": false,
     "start_time": "2025-02-18T11:23:17.020860",
     "status": "completed"
    },
    "tags": []
   },
   "source": [
    "<div style=\"color:white;\n",
    "            display:fill;\n",
    "            border-radius:15px;\n",
    "            background-color:#3B6790;\n",
    "            font-size:100%;\n",
    "            font-family:Verdana;\n",
    "            letter-spacing:1px\">\n",
    "    <h1 style='padding: 20px;\n",
    "              color:white;\n",
    "              text-align:center;'>\n",
    "        Reading Data And get Info\n",
    "    </h1>\n",
    "    </div>"
   ]
  },
  {
   "cell_type": "markdown",
   "id": "aee952a1",
   "metadata": {
    "papermill": {
     "duration": 0.007917,
     "end_time": "2025-02-18T11:23:17.045867",
     "exception": false,
     "start_time": "2025-02-18T11:23:17.037950",
     "status": "completed"
    },
    "tags": []
   },
   "source": [
    "## **Show Sample of Data**"
   ]
  },
  {
   "cell_type": "code",
   "execution_count": 2,
   "id": "b750169a",
   "metadata": {
    "execution": {
     "iopub.execute_input": "2025-02-18T11:23:17.064469Z",
     "iopub.status.busy": "2025-02-18T11:23:17.063909Z",
     "iopub.status.idle": "2025-02-18T11:23:17.114777Z",
     "shell.execute_reply": "2025-02-18T11:23:17.113734Z"
    },
    "papermill": {
     "duration": 0.061954,
     "end_time": "2025-02-18T11:23:17.116552",
     "exception": false,
     "start_time": "2025-02-18T11:23:17.054598",
     "status": "completed"
    },
    "tags": []
   },
   "outputs": [
    {
     "data": {
      "text/html": [
       "<div>\n",
       "<style scoped>\n",
       "    .dataframe tbody tr th:only-of-type {\n",
       "        vertical-align: middle;\n",
       "    }\n",
       "\n",
       "    .dataframe tbody tr th {\n",
       "        vertical-align: top;\n",
       "    }\n",
       "\n",
       "    .dataframe thead th {\n",
       "        text-align: right;\n",
       "    }\n",
       "</style>\n",
       "<table border=\"1\" class=\"dataframe\">\n",
       "  <thead>\n",
       "    <tr style=\"text-align: right;\">\n",
       "      <th></th>\n",
       "      <th>Age</th>\n",
       "      <th>Sex</th>\n",
       "      <th>ChestPainType</th>\n",
       "      <th>RestingBP</th>\n",
       "      <th>Cholesterol</th>\n",
       "      <th>FastingBS</th>\n",
       "      <th>RestingECG</th>\n",
       "      <th>MaxHR</th>\n",
       "      <th>ExerciseAngina</th>\n",
       "      <th>Oldpeak</th>\n",
       "      <th>ST_Slope</th>\n",
       "      <th>HeartDisease</th>\n",
       "    </tr>\n",
       "  </thead>\n",
       "  <tbody>\n",
       "    <tr>\n",
       "      <th>439</th>\n",
       "      <td>74</td>\n",
       "      <td>M</td>\n",
       "      <td>NAP</td>\n",
       "      <td>138</td>\n",
       "      <td>0</td>\n",
       "      <td>0</td>\n",
       "      <td>Normal</td>\n",
       "      <td>116</td>\n",
       "      <td>N</td>\n",
       "      <td>0.2</td>\n",
       "      <td>Up</td>\n",
       "      <td>0</td>\n",
       "    </tr>\n",
       "    <tr>\n",
       "      <th>427</th>\n",
       "      <td>59</td>\n",
       "      <td>M</td>\n",
       "      <td>ASY</td>\n",
       "      <td>140</td>\n",
       "      <td>0</td>\n",
       "      <td>0</td>\n",
       "      <td>ST</td>\n",
       "      <td>117</td>\n",
       "      <td>Y</td>\n",
       "      <td>1.0</td>\n",
       "      <td>Flat</td>\n",
       "      <td>1</td>\n",
       "    </tr>\n",
       "    <tr>\n",
       "      <th>759</th>\n",
       "      <td>54</td>\n",
       "      <td>M</td>\n",
       "      <td>ATA</td>\n",
       "      <td>192</td>\n",
       "      <td>283</td>\n",
       "      <td>0</td>\n",
       "      <td>LVH</td>\n",
       "      <td>195</td>\n",
       "      <td>N</td>\n",
       "      <td>0.0</td>\n",
       "      <td>Up</td>\n",
       "      <td>1</td>\n",
       "    </tr>\n",
       "    <tr>\n",
       "      <th>892</th>\n",
       "      <td>39</td>\n",
       "      <td>F</td>\n",
       "      <td>NAP</td>\n",
       "      <td>138</td>\n",
       "      <td>220</td>\n",
       "      <td>0</td>\n",
       "      <td>Normal</td>\n",
       "      <td>152</td>\n",
       "      <td>N</td>\n",
       "      <td>0.0</td>\n",
       "      <td>Flat</td>\n",
       "      <td>0</td>\n",
       "    </tr>\n",
       "    <tr>\n",
       "      <th>282</th>\n",
       "      <td>51</td>\n",
       "      <td>F</td>\n",
       "      <td>NAP</td>\n",
       "      <td>130</td>\n",
       "      <td>220</td>\n",
       "      <td>0</td>\n",
       "      <td>Normal</td>\n",
       "      <td>160</td>\n",
       "      <td>Y</td>\n",
       "      <td>2.0</td>\n",
       "      <td>Up</td>\n",
       "      <td>0</td>\n",
       "    </tr>\n",
       "  </tbody>\n",
       "</table>\n",
       "</div>"
      ],
      "text/plain": [
       "     Age Sex ChestPainType  RestingBP  Cholesterol  FastingBS RestingECG  \\\n",
       "439   74   M           NAP        138            0          0     Normal   \n",
       "427   59   M           ASY        140            0          0         ST   \n",
       "759   54   M           ATA        192          283          0        LVH   \n",
       "892   39   F           NAP        138          220          0     Normal   \n",
       "282   51   F           NAP        130          220          0     Normal   \n",
       "\n",
       "     MaxHR ExerciseAngina  Oldpeak ST_Slope  HeartDisease  \n",
       "439    116              N      0.2       Up             0  \n",
       "427    117              Y      1.0     Flat             1  \n",
       "759    195              N      0.0       Up             1  \n",
       "892    152              N      0.0     Flat             0  \n",
       "282    160              Y      2.0       Up             0  "
      ]
     },
     "execution_count": 2,
     "metadata": {},
     "output_type": "execute_result"
    }
   ],
   "source": [
    "df = pd.read_csv('/kaggle/input/heart-failure-prediction/heart.csv')\n",
    "df.sample(5)"
   ]
  },
  {
   "cell_type": "markdown",
   "id": "caacaa6f",
   "metadata": {
    "papermill": {
     "duration": 0.008278,
     "end_time": "2025-02-18T11:23:17.133667",
     "exception": false,
     "start_time": "2025-02-18T11:23:17.125389",
     "status": "completed"
    },
    "tags": []
   },
   "source": [
    "## **Show info of Data**"
   ]
  },
  {
   "cell_type": "code",
   "execution_count": 3,
   "id": "e099b763",
   "metadata": {
    "execution": {
     "iopub.execute_input": "2025-02-18T11:23:17.152062Z",
     "iopub.status.busy": "2025-02-18T11:23:17.151685Z",
     "iopub.status.idle": "2025-02-18T11:23:17.157026Z",
     "shell.execute_reply": "2025-02-18T11:23:17.155729Z"
    },
    "papermill": {
     "duration": 0.016391,
     "end_time": "2025-02-18T11:23:17.158606",
     "exception": false,
     "start_time": "2025-02-18T11:23:17.142215",
     "status": "completed"
    },
    "tags": []
   },
   "outputs": [
    {
     "name": "stdout",
     "output_type": "stream",
     "text": [
      "Number of Row : 918\n",
      "Number of Columns : 12\n"
     ]
    }
   ],
   "source": [
    "print(f\"Number of Row : {df.shape[0]}\\nNumber of Columns : {df.shape[1]}\")"
   ]
  },
  {
   "cell_type": "code",
   "execution_count": 4,
   "id": "76274959",
   "metadata": {
    "execution": {
     "iopub.execute_input": "2025-02-18T11:23:17.177946Z",
     "iopub.status.busy": "2025-02-18T11:23:17.177571Z",
     "iopub.status.idle": "2025-02-18T11:23:17.200227Z",
     "shell.execute_reply": "2025-02-18T11:23:17.198889Z"
    },
    "papermill": {
     "duration": 0.034323,
     "end_time": "2025-02-18T11:23:17.202131",
     "exception": false,
     "start_time": "2025-02-18T11:23:17.167808",
     "status": "completed"
    },
    "tags": []
   },
   "outputs": [
    {
     "name": "stdout",
     "output_type": "stream",
     "text": [
      "<class 'pandas.core.frame.DataFrame'>\n",
      "RangeIndex: 918 entries, 0 to 917\n",
      "Data columns (total 12 columns):\n",
      " #   Column          Non-Null Count  Dtype  \n",
      "---  ------          --------------  -----  \n",
      " 0   Age             918 non-null    int64  \n",
      " 1   Sex             918 non-null    object \n",
      " 2   ChestPainType   918 non-null    object \n",
      " 3   RestingBP       918 non-null    int64  \n",
      " 4   Cholesterol     918 non-null    int64  \n",
      " 5   FastingBS       918 non-null    int64  \n",
      " 6   RestingECG      918 non-null    object \n",
      " 7   MaxHR           918 non-null    int64  \n",
      " 8   ExerciseAngina  918 non-null    object \n",
      " 9   Oldpeak         918 non-null    float64\n",
      " 10  ST_Slope        918 non-null    object \n",
      " 11  HeartDisease    918 non-null    int64  \n",
      "dtypes: float64(1), int64(6), object(5)\n",
      "memory usage: 86.2+ KB\n"
     ]
    }
   ],
   "source": [
    "df.info()"
   ]
  },
  {
   "cell_type": "code",
   "execution_count": 5,
   "id": "118bcde7",
   "metadata": {
    "execution": {
     "iopub.execute_input": "2025-02-18T11:23:17.221350Z",
     "iopub.status.busy": "2025-02-18T11:23:17.220916Z",
     "iopub.status.idle": "2025-02-18T11:23:17.228761Z",
     "shell.execute_reply": "2025-02-18T11:23:17.227828Z"
    },
    "papermill": {
     "duration": 0.019323,
     "end_time": "2025-02-18T11:23:17.230575",
     "exception": false,
     "start_time": "2025-02-18T11:23:17.211252",
     "status": "completed"
    },
    "tags": []
   },
   "outputs": [
    {
     "data": {
      "text/plain": [
       "Age               0\n",
       "Sex               0\n",
       "ChestPainType     0\n",
       "RestingBP         0\n",
       "Cholesterol       0\n",
       "FastingBS         0\n",
       "RestingECG        0\n",
       "MaxHR             0\n",
       "ExerciseAngina    0\n",
       "Oldpeak           0\n",
       "ST_Slope          0\n",
       "HeartDisease      0\n",
       "dtype: int64"
      ]
     },
     "execution_count": 5,
     "metadata": {},
     "output_type": "execute_result"
    }
   ],
   "source": [
    "# Check NaN Value\n",
    "df.isna().sum()"
   ]
  },
  {
   "cell_type": "code",
   "execution_count": 6,
   "id": "4061301b",
   "metadata": {
    "execution": {
     "iopub.execute_input": "2025-02-18T11:23:17.249878Z",
     "iopub.status.busy": "2025-02-18T11:23:17.249537Z",
     "iopub.status.idle": "2025-02-18T11:23:17.280334Z",
     "shell.execute_reply": "2025-02-18T11:23:17.279113Z"
    },
    "papermill": {
     "duration": 0.04265,
     "end_time": "2025-02-18T11:23:17.282342",
     "exception": false,
     "start_time": "2025-02-18T11:23:17.239692",
     "status": "completed"
    },
    "tags": []
   },
   "outputs": [
    {
     "data": {
      "text/html": [
       "<div>\n",
       "<style scoped>\n",
       "    .dataframe tbody tr th:only-of-type {\n",
       "        vertical-align: middle;\n",
       "    }\n",
       "\n",
       "    .dataframe tbody tr th {\n",
       "        vertical-align: top;\n",
       "    }\n",
       "\n",
       "    .dataframe thead th {\n",
       "        text-align: right;\n",
       "    }\n",
       "</style>\n",
       "<table border=\"1\" class=\"dataframe\">\n",
       "  <thead>\n",
       "    <tr style=\"text-align: right;\">\n",
       "      <th></th>\n",
       "      <th>Age</th>\n",
       "      <th>RestingBP</th>\n",
       "      <th>Cholesterol</th>\n",
       "      <th>FastingBS</th>\n",
       "      <th>MaxHR</th>\n",
       "      <th>Oldpeak</th>\n",
       "      <th>HeartDisease</th>\n",
       "    </tr>\n",
       "  </thead>\n",
       "  <tbody>\n",
       "    <tr>\n",
       "      <th>count</th>\n",
       "      <td>918.000000</td>\n",
       "      <td>918.000000</td>\n",
       "      <td>918.000000</td>\n",
       "      <td>918.000000</td>\n",
       "      <td>918.000000</td>\n",
       "      <td>918.000000</td>\n",
       "      <td>918.000000</td>\n",
       "    </tr>\n",
       "    <tr>\n",
       "      <th>mean</th>\n",
       "      <td>53.510893</td>\n",
       "      <td>132.396514</td>\n",
       "      <td>198.799564</td>\n",
       "      <td>0.233115</td>\n",
       "      <td>136.809368</td>\n",
       "      <td>0.887364</td>\n",
       "      <td>0.553377</td>\n",
       "    </tr>\n",
       "    <tr>\n",
       "      <th>std</th>\n",
       "      <td>9.432617</td>\n",
       "      <td>18.514154</td>\n",
       "      <td>109.384145</td>\n",
       "      <td>0.423046</td>\n",
       "      <td>25.460334</td>\n",
       "      <td>1.066570</td>\n",
       "      <td>0.497414</td>\n",
       "    </tr>\n",
       "    <tr>\n",
       "      <th>min</th>\n",
       "      <td>28.000000</td>\n",
       "      <td>0.000000</td>\n",
       "      <td>0.000000</td>\n",
       "      <td>0.000000</td>\n",
       "      <td>60.000000</td>\n",
       "      <td>-2.600000</td>\n",
       "      <td>0.000000</td>\n",
       "    </tr>\n",
       "    <tr>\n",
       "      <th>25%</th>\n",
       "      <td>47.000000</td>\n",
       "      <td>120.000000</td>\n",
       "      <td>173.250000</td>\n",
       "      <td>0.000000</td>\n",
       "      <td>120.000000</td>\n",
       "      <td>0.000000</td>\n",
       "      <td>0.000000</td>\n",
       "    </tr>\n",
       "    <tr>\n",
       "      <th>50%</th>\n",
       "      <td>54.000000</td>\n",
       "      <td>130.000000</td>\n",
       "      <td>223.000000</td>\n",
       "      <td>0.000000</td>\n",
       "      <td>138.000000</td>\n",
       "      <td>0.600000</td>\n",
       "      <td>1.000000</td>\n",
       "    </tr>\n",
       "    <tr>\n",
       "      <th>75%</th>\n",
       "      <td>60.000000</td>\n",
       "      <td>140.000000</td>\n",
       "      <td>267.000000</td>\n",
       "      <td>0.000000</td>\n",
       "      <td>156.000000</td>\n",
       "      <td>1.500000</td>\n",
       "      <td>1.000000</td>\n",
       "    </tr>\n",
       "    <tr>\n",
       "      <th>max</th>\n",
       "      <td>77.000000</td>\n",
       "      <td>200.000000</td>\n",
       "      <td>603.000000</td>\n",
       "      <td>1.000000</td>\n",
       "      <td>202.000000</td>\n",
       "      <td>6.200000</td>\n",
       "      <td>1.000000</td>\n",
       "    </tr>\n",
       "  </tbody>\n",
       "</table>\n",
       "</div>"
      ],
      "text/plain": [
       "              Age   RestingBP  Cholesterol   FastingBS       MaxHR  \\\n",
       "count  918.000000  918.000000   918.000000  918.000000  918.000000   \n",
       "mean    53.510893  132.396514   198.799564    0.233115  136.809368   \n",
       "std      9.432617   18.514154   109.384145    0.423046   25.460334   \n",
       "min     28.000000    0.000000     0.000000    0.000000   60.000000   \n",
       "25%     47.000000  120.000000   173.250000    0.000000  120.000000   \n",
       "50%     54.000000  130.000000   223.000000    0.000000  138.000000   \n",
       "75%     60.000000  140.000000   267.000000    0.000000  156.000000   \n",
       "max     77.000000  200.000000   603.000000    1.000000  202.000000   \n",
       "\n",
       "          Oldpeak  HeartDisease  \n",
       "count  918.000000    918.000000  \n",
       "mean     0.887364      0.553377  \n",
       "std      1.066570      0.497414  \n",
       "min     -2.600000      0.000000  \n",
       "25%      0.000000      0.000000  \n",
       "50%      0.600000      1.000000  \n",
       "75%      1.500000      1.000000  \n",
       "max      6.200000      1.000000  "
      ]
     },
     "execution_count": 6,
     "metadata": {},
     "output_type": "execute_result"
    }
   ],
   "source": [
    "# Describe Numiric Data\n",
    "df.describe()"
   ]
  },
  {
   "cell_type": "markdown",
   "id": "2426c2e3",
   "metadata": {
    "papermill": {
     "duration": 0.008827,
     "end_time": "2025-02-18T11:23:17.300881",
     "exception": false,
     "start_time": "2025-02-18T11:23:17.292054",
     "status": "completed"
    },
    "tags": []
   },
   "source": [
    "### 📌 ข้อผิดพลาดที่พบในการเก็บข้อมูลมี 3 จุดหลัก\n",
    "    > ค่าต่ำสุดของ 2 คอลัมน์ (RestingBP, Cholesterol) เป็น 0\n",
    "    > ค่า Oldpeak มีค่าต่ำสุดเป็น -2.6 "
   ]
  },
  {
   "cell_type": "code",
   "execution_count": 7,
   "id": "a55cbb9e",
   "metadata": {
    "execution": {
     "iopub.execute_input": "2025-02-18T11:23:17.321113Z",
     "iopub.status.busy": "2025-02-18T11:23:17.320673Z",
     "iopub.status.idle": "2025-02-18T11:23:17.339258Z",
     "shell.execute_reply": "2025-02-18T11:23:17.338001Z"
    },
    "papermill": {
     "duration": 0.031159,
     "end_time": "2025-02-18T11:23:17.341257",
     "exception": false,
     "start_time": "2025-02-18T11:23:17.310098",
     "status": "completed"
    },
    "tags": []
   },
   "outputs": [
    {
     "data": {
      "text/html": [
       "<div>\n",
       "<style scoped>\n",
       "    .dataframe tbody tr th:only-of-type {\n",
       "        vertical-align: middle;\n",
       "    }\n",
       "\n",
       "    .dataframe tbody tr th {\n",
       "        vertical-align: top;\n",
       "    }\n",
       "\n",
       "    .dataframe thead th {\n",
       "        text-align: right;\n",
       "    }\n",
       "</style>\n",
       "<table border=\"1\" class=\"dataframe\">\n",
       "  <thead>\n",
       "    <tr style=\"text-align: right;\">\n",
       "      <th></th>\n",
       "      <th>Count</th>\n",
       "      <th>Null</th>\n",
       "      <th>Null %</th>\n",
       "      <th>Cardinality</th>\n",
       "    </tr>\n",
       "  </thead>\n",
       "  <tbody>\n",
       "    <tr>\n",
       "      <th>Age</th>\n",
       "      <td>918</td>\n",
       "      <td>0</td>\n",
       "      <td>0.0</td>\n",
       "      <td>50</td>\n",
       "    </tr>\n",
       "    <tr>\n",
       "      <th>Sex</th>\n",
       "      <td>918</td>\n",
       "      <td>0</td>\n",
       "      <td>0.0</td>\n",
       "      <td>2</td>\n",
       "    </tr>\n",
       "    <tr>\n",
       "      <th>ChestPainType</th>\n",
       "      <td>918</td>\n",
       "      <td>0</td>\n",
       "      <td>0.0</td>\n",
       "      <td>4</td>\n",
       "    </tr>\n",
       "    <tr>\n",
       "      <th>RestingBP</th>\n",
       "      <td>918</td>\n",
       "      <td>0</td>\n",
       "      <td>0.0</td>\n",
       "      <td>67</td>\n",
       "    </tr>\n",
       "    <tr>\n",
       "      <th>Cholesterol</th>\n",
       "      <td>918</td>\n",
       "      <td>0</td>\n",
       "      <td>0.0</td>\n",
       "      <td>222</td>\n",
       "    </tr>\n",
       "    <tr>\n",
       "      <th>FastingBS</th>\n",
       "      <td>918</td>\n",
       "      <td>0</td>\n",
       "      <td>0.0</td>\n",
       "      <td>2</td>\n",
       "    </tr>\n",
       "    <tr>\n",
       "      <th>RestingECG</th>\n",
       "      <td>918</td>\n",
       "      <td>0</td>\n",
       "      <td>0.0</td>\n",
       "      <td>3</td>\n",
       "    </tr>\n",
       "    <tr>\n",
       "      <th>MaxHR</th>\n",
       "      <td>918</td>\n",
       "      <td>0</td>\n",
       "      <td>0.0</td>\n",
       "      <td>119</td>\n",
       "    </tr>\n",
       "    <tr>\n",
       "      <th>ExerciseAngina</th>\n",
       "      <td>918</td>\n",
       "      <td>0</td>\n",
       "      <td>0.0</td>\n",
       "      <td>2</td>\n",
       "    </tr>\n",
       "    <tr>\n",
       "      <th>Oldpeak</th>\n",
       "      <td>918</td>\n",
       "      <td>0</td>\n",
       "      <td>0.0</td>\n",
       "      <td>53</td>\n",
       "    </tr>\n",
       "    <tr>\n",
       "      <th>ST_Slope</th>\n",
       "      <td>918</td>\n",
       "      <td>0</td>\n",
       "      <td>0.0</td>\n",
       "      <td>3</td>\n",
       "    </tr>\n",
       "    <tr>\n",
       "      <th>HeartDisease</th>\n",
       "      <td>918</td>\n",
       "      <td>0</td>\n",
       "      <td>0.0</td>\n",
       "      <td>2</td>\n",
       "    </tr>\n",
       "  </tbody>\n",
       "</table>\n",
       "</div>"
      ],
      "text/plain": [
       "                Count  Null  Null %  Cardinality\n",
       "Age               918     0     0.0           50\n",
       "Sex               918     0     0.0            2\n",
       "ChestPainType     918     0     0.0            4\n",
       "RestingBP         918     0     0.0           67\n",
       "Cholesterol       918     0     0.0          222\n",
       "FastingBS         918     0     0.0            2\n",
       "RestingECG        918     0     0.0            3\n",
       "MaxHR             918     0     0.0          119\n",
       "ExerciseAngina    918     0     0.0            2\n",
       "Oldpeak           918     0     0.0           53\n",
       "ST_Slope          918     0     0.0            3\n",
       "HeartDisease      918     0     0.0            2"
      ]
     },
     "execution_count": 7,
     "metadata": {},
     "output_type": "execute_result"
    }
   ],
   "source": [
    "pd.DataFrame({'Count':df.shape[0],\n",
    "              'Null':df.isnull().sum(),\n",
    "              'Null %':df.isnull().mean() * 100,\n",
    "              'Cardinality':df.nunique()\n",
    "})"
   ]
  },
  {
   "cell_type": "markdown",
   "id": "c01d6ae1",
   "metadata": {
    "execution": {
     "iopub.execute_input": "2025-02-18T08:21:59.799144Z",
     "iopub.status.busy": "2025-02-18T08:21:59.798601Z",
     "iopub.status.idle": "2025-02-18T08:21:59.807273Z",
     "shell.execute_reply": "2025-02-18T08:21:59.805290Z",
     "shell.execute_reply.started": "2025-02-18T08:21:59.799107Z"
    },
    "papermill": {
     "duration": 0.009931,
     "end_time": "2025-02-18T11:23:17.361441",
     "exception": false,
     "start_time": "2025-02-18T11:23:17.351510",
     "status": "completed"
    },
    "tags": []
   },
   "source": [
    " <div style=\"color:white;\n",
    "            display:fill;\n",
    "            border-radius:15px;\n",
    "            background-color:#3B6790;\n",
    "            font-size:100%;\n",
    "            font-family:Verdana;\n",
    "            letter-spacing:1px\">\n",
    "    <h1 style='padding: 20px;\n",
    "              color:white;\n",
    "              text-align:center;'>\n",
    "        Handling Missing Data\n",
    "    </h1>\n",
    "   </div>\n",
    "\n",
    "## การจัดการค่าที่ไม่สมเหตุสมผล (Handling Not Realistic Values)\n",
    "    1️⃣ ปัญหาค่า Oldpeak ติดลบ\n",
    "    2️⃣ ปัญหาค่า 0 ในคอลัมน์ RestingBP และ Cholesterol  -> เปลี่ยนค่า 0 เป็น NaN (missing values)\n",
    "    3️⃣ การเติมค่าที่หายไป (Missing Values)"
   ]
  },
  {
   "cell_type": "code",
   "execution_count": 8,
   "id": "df3307f5",
   "metadata": {
    "execution": {
     "iopub.execute_input": "2025-02-18T11:23:17.382634Z",
     "iopub.status.busy": "2025-02-18T11:23:17.382181Z",
     "iopub.status.idle": "2025-02-18T11:23:17.399115Z",
     "shell.execute_reply": "2025-02-18T11:23:17.397924Z"
    },
    "papermill": {
     "duration": 0.029487,
     "end_time": "2025-02-18T11:23:17.400919",
     "exception": false,
     "start_time": "2025-02-18T11:23:17.371432",
     "status": "completed"
    },
    "tags": []
   },
   "outputs": [
    {
     "data": {
      "text/html": [
       "<div>\n",
       "<style scoped>\n",
       "    .dataframe tbody tr th:only-of-type {\n",
       "        vertical-align: middle;\n",
       "    }\n",
       "\n",
       "    .dataframe tbody tr th {\n",
       "        vertical-align: top;\n",
       "    }\n",
       "\n",
       "    .dataframe thead th {\n",
       "        text-align: right;\n",
       "    }\n",
       "</style>\n",
       "<table border=\"1\" class=\"dataframe\">\n",
       "  <thead>\n",
       "    <tr style=\"text-align: right;\">\n",
       "      <th></th>\n",
       "      <th>Age</th>\n",
       "      <th>Sex</th>\n",
       "      <th>ChestPainType</th>\n",
       "      <th>RestingBP</th>\n",
       "      <th>Cholesterol</th>\n",
       "      <th>FastingBS</th>\n",
       "      <th>RestingECG</th>\n",
       "      <th>MaxHR</th>\n",
       "      <th>ExerciseAngina</th>\n",
       "      <th>Oldpeak</th>\n",
       "      <th>ST_Slope</th>\n",
       "      <th>HeartDisease</th>\n",
       "    </tr>\n",
       "  </thead>\n",
       "  <tbody>\n",
       "    <tr>\n",
       "      <th>321</th>\n",
       "      <td>63</td>\n",
       "      <td>M</td>\n",
       "      <td>ASY</td>\n",
       "      <td>100</td>\n",
       "      <td>0</td>\n",
       "      <td>1</td>\n",
       "      <td>Normal</td>\n",
       "      <td>109</td>\n",
       "      <td>N</td>\n",
       "      <td>-0.9</td>\n",
       "      <td>Flat</td>\n",
       "      <td>1</td>\n",
       "    </tr>\n",
       "    <tr>\n",
       "      <th>324</th>\n",
       "      <td>46</td>\n",
       "      <td>M</td>\n",
       "      <td>ASY</td>\n",
       "      <td>100</td>\n",
       "      <td>0</td>\n",
       "      <td>1</td>\n",
       "      <td>ST</td>\n",
       "      <td>133</td>\n",
       "      <td>N</td>\n",
       "      <td>-2.6</td>\n",
       "      <td>Flat</td>\n",
       "      <td>1</td>\n",
       "    </tr>\n",
       "    <tr>\n",
       "      <th>325</th>\n",
       "      <td>42</td>\n",
       "      <td>M</td>\n",
       "      <td>ASY</td>\n",
       "      <td>105</td>\n",
       "      <td>0</td>\n",
       "      <td>1</td>\n",
       "      <td>Normal</td>\n",
       "      <td>128</td>\n",
       "      <td>Y</td>\n",
       "      <td>-1.5</td>\n",
       "      <td>Down</td>\n",
       "      <td>1</td>\n",
       "    </tr>\n",
       "    <tr>\n",
       "      <th>326</th>\n",
       "      <td>45</td>\n",
       "      <td>M</td>\n",
       "      <td>NAP</td>\n",
       "      <td>110</td>\n",
       "      <td>0</td>\n",
       "      <td>0</td>\n",
       "      <td>Normal</td>\n",
       "      <td>138</td>\n",
       "      <td>N</td>\n",
       "      <td>-0.1</td>\n",
       "      <td>Up</td>\n",
       "      <td>0</td>\n",
       "    </tr>\n",
       "    <tr>\n",
       "      <th>331</th>\n",
       "      <td>56</td>\n",
       "      <td>M</td>\n",
       "      <td>ASY</td>\n",
       "      <td>115</td>\n",
       "      <td>0</td>\n",
       "      <td>1</td>\n",
       "      <td>ST</td>\n",
       "      <td>82</td>\n",
       "      <td>N</td>\n",
       "      <td>-1.0</td>\n",
       "      <td>Up</td>\n",
       "      <td>1</td>\n",
       "    </tr>\n",
       "    <tr>\n",
       "      <th>332</th>\n",
       "      <td>38</td>\n",
       "      <td>M</td>\n",
       "      <td>NAP</td>\n",
       "      <td>100</td>\n",
       "      <td>0</td>\n",
       "      <td>0</td>\n",
       "      <td>Normal</td>\n",
       "      <td>179</td>\n",
       "      <td>N</td>\n",
       "      <td>-1.1</td>\n",
       "      <td>Up</td>\n",
       "      <td>0</td>\n",
       "    </tr>\n",
       "    <tr>\n",
       "      <th>334</th>\n",
       "      <td>51</td>\n",
       "      <td>M</td>\n",
       "      <td>ASY</td>\n",
       "      <td>130</td>\n",
       "      <td>0</td>\n",
       "      <td>1</td>\n",
       "      <td>Normal</td>\n",
       "      <td>170</td>\n",
       "      <td>N</td>\n",
       "      <td>-0.7</td>\n",
       "      <td>Up</td>\n",
       "      <td>1</td>\n",
       "    </tr>\n",
       "    <tr>\n",
       "      <th>335</th>\n",
       "      <td>62</td>\n",
       "      <td>M</td>\n",
       "      <td>TA</td>\n",
       "      <td>120</td>\n",
       "      <td>0</td>\n",
       "      <td>1</td>\n",
       "      <td>LVH</td>\n",
       "      <td>134</td>\n",
       "      <td>N</td>\n",
       "      <td>-0.8</td>\n",
       "      <td>Flat</td>\n",
       "      <td>1</td>\n",
       "    </tr>\n",
       "    <tr>\n",
       "      <th>352</th>\n",
       "      <td>56</td>\n",
       "      <td>M</td>\n",
       "      <td>ASY</td>\n",
       "      <td>120</td>\n",
       "      <td>0</td>\n",
       "      <td>0</td>\n",
       "      <td>ST</td>\n",
       "      <td>100</td>\n",
       "      <td>Y</td>\n",
       "      <td>-1.0</td>\n",
       "      <td>Down</td>\n",
       "      <td>1</td>\n",
       "    </tr>\n",
       "    <tr>\n",
       "      <th>407</th>\n",
       "      <td>62</td>\n",
       "      <td>M</td>\n",
       "      <td>ASY</td>\n",
       "      <td>115</td>\n",
       "      <td>0</td>\n",
       "      <td>1</td>\n",
       "      <td>Normal</td>\n",
       "      <td>72</td>\n",
       "      <td>Y</td>\n",
       "      <td>-0.5</td>\n",
       "      <td>Flat</td>\n",
       "      <td>1</td>\n",
       "    </tr>\n",
       "    <tr>\n",
       "      <th>413</th>\n",
       "      <td>56</td>\n",
       "      <td>M</td>\n",
       "      <td>NAP</td>\n",
       "      <td>125</td>\n",
       "      <td>0</td>\n",
       "      <td>1</td>\n",
       "      <td>Normal</td>\n",
       "      <td>98</td>\n",
       "      <td>N</td>\n",
       "      <td>-2.0</td>\n",
       "      <td>Flat</td>\n",
       "      <td>1</td>\n",
       "    </tr>\n",
       "    <tr>\n",
       "      <th>421</th>\n",
       "      <td>66</td>\n",
       "      <td>M</td>\n",
       "      <td>NAP</td>\n",
       "      <td>120</td>\n",
       "      <td>0</td>\n",
       "      <td>0</td>\n",
       "      <td>ST</td>\n",
       "      <td>120</td>\n",
       "      <td>N</td>\n",
       "      <td>-0.5</td>\n",
       "      <td>Up</td>\n",
       "      <td>0</td>\n",
       "    </tr>\n",
       "    <tr>\n",
       "      <th>512</th>\n",
       "      <td>35</td>\n",
       "      <td>M</td>\n",
       "      <td>NAP</td>\n",
       "      <td>123</td>\n",
       "      <td>161</td>\n",
       "      <td>0</td>\n",
       "      <td>ST</td>\n",
       "      <td>153</td>\n",
       "      <td>N</td>\n",
       "      <td>-0.1</td>\n",
       "      <td>Up</td>\n",
       "      <td>0</td>\n",
       "    </tr>\n",
       "  </tbody>\n",
       "</table>\n",
       "</div>"
      ],
      "text/plain": [
       "     Age Sex ChestPainType  RestingBP  Cholesterol  FastingBS RestingECG  \\\n",
       "321   63   M           ASY        100            0          1     Normal   \n",
       "324   46   M           ASY        100            0          1         ST   \n",
       "325   42   M           ASY        105            0          1     Normal   \n",
       "326   45   M           NAP        110            0          0     Normal   \n",
       "331   56   M           ASY        115            0          1         ST   \n",
       "332   38   M           NAP        100            0          0     Normal   \n",
       "334   51   M           ASY        130            0          1     Normal   \n",
       "335   62   M            TA        120            0          1        LVH   \n",
       "352   56   M           ASY        120            0          0         ST   \n",
       "407   62   M           ASY        115            0          1     Normal   \n",
       "413   56   M           NAP        125            0          1     Normal   \n",
       "421   66   M           NAP        120            0          0         ST   \n",
       "512   35   M           NAP        123          161          0         ST   \n",
       "\n",
       "     MaxHR ExerciseAngina  Oldpeak ST_Slope  HeartDisease  \n",
       "321    109              N     -0.9     Flat             1  \n",
       "324    133              N     -2.6     Flat             1  \n",
       "325    128              Y     -1.5     Down             1  \n",
       "326    138              N     -0.1       Up             0  \n",
       "331     82              N     -1.0       Up             1  \n",
       "332    179              N     -1.1       Up             0  \n",
       "334    170              N     -0.7       Up             1  \n",
       "335    134              N     -0.8     Flat             1  \n",
       "352    100              Y     -1.0     Down             1  \n",
       "407     72              Y     -0.5     Flat             1  \n",
       "413     98              N     -2.0     Flat             1  \n",
       "421    120              N     -0.5       Up             0  \n",
       "512    153              N     -0.1       Up             0  "
      ]
     },
     "execution_count": 8,
     "metadata": {},
     "output_type": "execute_result"
    }
   ],
   "source": [
    "df[df['Oldpeak']<0]"
   ]
  },
  {
   "cell_type": "code",
   "execution_count": 9,
   "id": "84d51add",
   "metadata": {
    "execution": {
     "iopub.execute_input": "2025-02-18T11:23:17.422361Z",
     "iopub.status.busy": "2025-02-18T11:23:17.421946Z",
     "iopub.status.idle": "2025-02-18T11:23:17.426816Z",
     "shell.execute_reply": "2025-02-18T11:23:17.425641Z"
    },
    "papermill": {
     "duration": 0.0178,
     "end_time": "2025-02-18T11:23:17.428749",
     "exception": false,
     "start_time": "2025-02-18T11:23:17.410949",
     "status": "completed"
    },
    "tags": []
   },
   "outputs": [],
   "source": [
    "# Change negative values to positive values\n",
    "df['Oldpeak'] = df['Oldpeak'].abs()"
   ]
  },
  {
   "cell_type": "code",
   "execution_count": 10,
   "id": "f0f51064",
   "metadata": {
    "execution": {
     "iopub.execute_input": "2025-02-18T11:23:17.450262Z",
     "iopub.status.busy": "2025-02-18T11:23:17.449871Z",
     "iopub.status.idle": "2025-02-18T11:23:17.460488Z",
     "shell.execute_reply": "2025-02-18T11:23:17.459459Z"
    },
    "papermill": {
     "duration": 0.023236,
     "end_time": "2025-02-18T11:23:17.462088",
     "exception": false,
     "start_time": "2025-02-18T11:23:17.438852",
     "status": "completed"
    },
    "tags": []
   },
   "outputs": [
    {
     "data": {
      "text/plain": [
       "RestingBP        1\n",
       "Cholesterol    172\n",
       "dtype: int64"
      ]
     },
     "execution_count": 10,
     "metadata": {},
     "output_type": "execute_result"
    }
   ],
   "source": [
    "df[['RestingBP','Cholesterol']] = df[['RestingBP','Cholesterol']].replace(0,np.nan)\n",
    "# Show Number of Missing Values (NaN)\n",
    "df[['RestingBP','Cholesterol']].isna().sum()"
   ]
  },
  {
   "cell_type": "code",
   "execution_count": 11,
   "id": "fd9ae93c",
   "metadata": {
    "execution": {
     "iopub.execute_input": "2025-02-18T11:23:17.484729Z",
     "iopub.status.busy": "2025-02-18T11:23:17.484344Z",
     "iopub.status.idle": "2025-02-18T11:23:17.498744Z",
     "shell.execute_reply": "2025-02-18T11:23:17.497554Z"
    },
    "papermill": {
     "duration": 0.027853,
     "end_time": "2025-02-18T11:23:17.500585",
     "exception": false,
     "start_time": "2025-02-18T11:23:17.472732",
     "status": "completed"
    },
    "tags": []
   },
   "outputs": [
    {
     "data": {
      "text/html": [
       "<div>\n",
       "<style scoped>\n",
       "    .dataframe tbody tr th:only-of-type {\n",
       "        vertical-align: middle;\n",
       "    }\n",
       "\n",
       "    .dataframe tbody tr th {\n",
       "        vertical-align: top;\n",
       "    }\n",
       "\n",
       "    .dataframe thead th {\n",
       "        text-align: right;\n",
       "    }\n",
       "</style>\n",
       "<table border=\"1\" class=\"dataframe\">\n",
       "  <thead>\n",
       "    <tr style=\"text-align: right;\">\n",
       "      <th></th>\n",
       "      <th>Age</th>\n",
       "      <th>Sex</th>\n",
       "      <th>ChestPainType</th>\n",
       "      <th>RestingBP</th>\n",
       "      <th>Cholesterol</th>\n",
       "      <th>FastingBS</th>\n",
       "      <th>RestingECG</th>\n",
       "      <th>MaxHR</th>\n",
       "      <th>ExerciseAngina</th>\n",
       "      <th>Oldpeak</th>\n",
       "      <th>ST_Slope</th>\n",
       "      <th>HeartDisease</th>\n",
       "    </tr>\n",
       "  </thead>\n",
       "  <tbody>\n",
       "    <tr>\n",
       "      <th>449</th>\n",
       "      <td>55</td>\n",
       "      <td>M</td>\n",
       "      <td>NAP</td>\n",
       "      <td>NaN</td>\n",
       "      <td>NaN</td>\n",
       "      <td>0</td>\n",
       "      <td>Normal</td>\n",
       "      <td>155</td>\n",
       "      <td>N</td>\n",
       "      <td>1.5</td>\n",
       "      <td>Flat</td>\n",
       "      <td>1</td>\n",
       "    </tr>\n",
       "  </tbody>\n",
       "</table>\n",
       "</div>"
      ],
      "text/plain": [
       "     Age Sex ChestPainType  RestingBP  Cholesterol  FastingBS RestingECG  \\\n",
       "449   55   M           NAP        NaN          NaN          0     Normal   \n",
       "\n",
       "     MaxHR ExerciseAngina  Oldpeak ST_Slope  HeartDisease  \n",
       "449    155              N      1.5     Flat             1  "
      ]
     },
     "execution_count": 11,
     "metadata": {},
     "output_type": "execute_result"
    }
   ],
   "source": [
    "# Show Status of HeartDisease which NaN in RestingBP\n",
    "df[df['RestingBP'].isna()]"
   ]
  },
  {
   "cell_type": "code",
   "execution_count": 12,
   "id": "3fac6975",
   "metadata": {
    "execution": {
     "iopub.execute_input": "2025-02-18T11:23:17.522201Z",
     "iopub.status.busy": "2025-02-18T11:23:17.521797Z",
     "iopub.status.idle": "2025-02-18T11:23:17.534792Z",
     "shell.execute_reply": "2025-02-18T11:23:17.533436Z"
    },
    "papermill": {
     "duration": 0.025958,
     "end_time": "2025-02-18T11:23:17.536745",
     "exception": false,
     "start_time": "2025-02-18T11:23:17.510787",
     "status": "completed"
    },
    "tags": []
   },
   "outputs": [],
   "source": [
    "# Fill Missing Value with median of people has Heart Disease\n",
    "df['RestingBP'] = df['RestingBP'].fillna(df.groupby('HeartDisease')['RestingBP'].median()[1])\n",
    "temp = df.groupby('HeartDisease')['Cholesterol'].median()\n",
    "df.loc[(df['Cholesterol'].isna()) & (df['HeartDisease'] == 0), 'Cholesterol'] = temp[0]\n",
    "df.loc[(df['Cholesterol'].isna()) & (df['HeartDisease'] == 1), 'Cholesterol'] = temp[1]"
   ]
  },
  {
   "cell_type": "code",
   "execution_count": 13,
   "id": "d2df07de",
   "metadata": {
    "execution": {
     "iopub.execute_input": "2025-02-18T11:23:17.559376Z",
     "iopub.status.busy": "2025-02-18T11:23:17.558956Z",
     "iopub.status.idle": "2025-02-18T11:23:17.567274Z",
     "shell.execute_reply": "2025-02-18T11:23:17.566311Z"
    },
    "papermill": {
     "duration": 0.021587,
     "end_time": "2025-02-18T11:23:17.569130",
     "exception": false,
     "start_time": "2025-02-18T11:23:17.547543",
     "status": "completed"
    },
    "tags": []
   },
   "outputs": [
    {
     "data": {
      "text/plain": [
       "Age               0\n",
       "Sex               0\n",
       "ChestPainType     0\n",
       "RestingBP         0\n",
       "Cholesterol       0\n",
       "FastingBS         0\n",
       "RestingECG        0\n",
       "MaxHR             0\n",
       "ExerciseAngina    0\n",
       "Oldpeak           0\n",
       "ST_Slope          0\n",
       "HeartDisease      0\n",
       "dtype: int64"
      ]
     },
     "execution_count": 13,
     "metadata": {},
     "output_type": "execute_result"
    }
   ],
   "source": [
    "# After Fill Missing Values\n",
    "df.isnull().sum()"
   ]
  },
  {
   "cell_type": "markdown",
   "id": "b3ce07c3",
   "metadata": {
    "papermill": {
     "duration": 0.010898,
     "end_time": "2025-02-18T11:23:17.590434",
     "exception": false,
     "start_time": "2025-02-18T11:23:17.579536",
     "status": "completed"
    },
    "tags": []
   },
   "source": [
    " <div style=\"color:white;\n",
    "            display:fill;\n",
    "            border-radius:15px;\n",
    "            background-color:#3B6790;\n",
    "            font-size:100%;\n",
    "            font-family:Verdana;\n",
    "            letter-spacing:1px\">\n",
    "    <h1 style='padding: 20px;\n",
    "              color:white;\n",
    "              text-align:center;'>\n",
    "        Detection Outliers\n",
    "    </h1>\n",
    "   </div>"
   ]
  },
  {
   "cell_type": "code",
   "execution_count": 14,
   "id": "4c9bc6d7",
   "metadata": {
    "execution": {
     "iopub.execute_input": "2025-02-18T11:23:17.612663Z",
     "iopub.status.busy": "2025-02-18T11:23:17.612318Z",
     "iopub.status.idle": "2025-02-18T11:23:17.631575Z",
     "shell.execute_reply": "2025-02-18T11:23:17.630270Z"
    },
    "papermill": {
     "duration": 0.032474,
     "end_time": "2025-02-18T11:23:17.633242",
     "exception": false,
     "start_time": "2025-02-18T11:23:17.600768",
     "status": "completed"
    },
    "tags": []
   },
   "outputs": [
    {
     "name": "stdout",
     "output_type": "stream",
     "text": [
      "Age: 0 outliers detected\n",
      "RestingBP: 27 outliers detected\n",
      "Cholesterol: 41 outliers detected\n",
      "MaxHR: 2 outliers detected\n",
      "Oldpeak: 15 outliers detected\n"
     ]
    }
   ],
   "source": [
    "def detect_outliers_iqr(df, columns, threshold = 1.5):\n",
    "\n",
    "    outlier_indices = {}\n",
    "\n",
    "    for col in columns:\n",
    "        Q1 = df[col].quantile(0.25)  # 25th percentile\n",
    "        Q3 = df[col].quantile(0.75)  # 75th percentile\n",
    "        IQR = Q3 - Q1  # Interquartile range\n",
    "        lower_bound = Q1 - threshold * IQR\n",
    "        upper_bound = Q3 + threshold * IQR\n",
    "\n",
    "        # Finding outliers\n",
    "        outliers = df[(df[col] < lower_bound) | (df[col] > upper_bound)].index.tolist()\n",
    "        outlier_indices[col] = outliers\n",
    "    \n",
    "    return outlier_indices\n",
    "\n",
    "numerical_columns = ['Age', 'RestingBP', 'Cholesterol', 'MaxHR', 'Oldpeak']\n",
    "outliers_iqr = detect_outliers_iqr(df, numerical_columns)\n",
    "\n",
    "for col, indices in outliers_iqr.items():\n",
    "    print(f\"{col}: {len(indices)} outliers detected\")"
   ]
  },
  {
   "cell_type": "code",
   "execution_count": 15,
   "id": "79a45b92",
   "metadata": {
    "execution": {
     "iopub.execute_input": "2025-02-18T11:23:17.654881Z",
     "iopub.status.busy": "2025-02-18T11:23:17.654529Z",
     "iopub.status.idle": "2025-02-18T11:23:18.469896Z",
     "shell.execute_reply": "2025-02-18T11:23:18.468789Z"
    },
    "papermill": {
     "duration": 0.828262,
     "end_time": "2025-02-18T11:23:18.471788",
     "exception": false,
     "start_time": "2025-02-18T11:23:17.643526",
     "status": "completed"
    },
    "tags": []
   },
   "outputs": [
    {
     "data": {
      "image/png": "[encoded data removed]",
      "text/plain": [
       "<Figure size 1500x600 with 5 Axes>"
      ]
     },
     "metadata": {},
     "output_type": "display_data"
    }
   ],
   "source": [
    "plt.figure(figsize=(15, 6))\n",
    "\n",
    "for i, col in enumerate(numerical_columns, 1):\n",
    "    plt.subplot(2, 3, i)  \n",
    "    sns.boxplot(x = df[col], color = \"skyblue\")\n",
    "    plt.title(f\"Box Plot of {col}\")\n",
    "\n",
    "plt.tight_layout() \n",
    "plt.show()"
   ]
  },
  {
   "cell_type": "markdown",
   "id": "52b8df0c",
   "metadata": {
    "papermill": {
     "duration": 0.011227,
     "end_time": "2025-02-18T11:23:18.494440",
     "exception": false,
     "start_time": "2025-02-18T11:23:18.483213",
     "status": "completed"
    },
    "tags": []
   },
   "source": [
    "## **Cleaned Data BoxPlot To Show Outliers**"
   ]
  },
  {
   "cell_type": "code",
   "execution_count": 16,
   "id": "40e4c1f0",
   "metadata": {
    "execution": {
     "iopub.execute_input": "2025-02-18T11:23:18.519100Z",
     "iopub.status.busy": "2025-02-18T11:23:18.518667Z",
     "iopub.status.idle": "2025-02-18T11:23:18.535893Z",
     "shell.execute_reply": "2025-02-18T11:23:18.534690Z"
    },
    "papermill": {
     "duration": 0.032262,
     "end_time": "2025-02-18T11:23:18.537914",
     "exception": false,
     "start_time": "2025-02-18T11:23:18.505652",
     "status": "completed"
    },
    "tags": []
   },
   "outputs": [],
   "source": [
    "def remove_outliers(df, columns, threshold=1.5):\n",
    "    df_clean = df.copy()\n",
    "    for col in columns:\n",
    "        Q1 = df_clean[col].quantile(0.25)  # First quartile (25%)\n",
    "        Q3 = df_clean[col].quantile(0.75)  # Third quartile (75%)\n",
    "        IQR = Q3 - Q1  # Interquartile range\n",
    "        lower_bound = Q1 - threshold * IQR\n",
    "        upper_bound = Q3 + threshold * IQR\n",
    "        \n",
    "        df_clean = df_clean[(df_clean[col] > lower_bound) & (df_clean[col] < upper_bound)]\n",
    "    \n",
    "    return df_clean\n",
    "\n",
    "df_cleaned = remove_outliers(df, numerical_columns)"
   ]
  },
  {
   "cell_type": "code",
   "execution_count": 17,
   "id": "b54120dd",
   "metadata": {
    "execution": {
     "iopub.execute_input": "2025-02-18T11:23:18.562426Z",
     "iopub.status.busy": "2025-02-18T11:23:18.562033Z",
     "iopub.status.idle": "2025-02-18T11:23:18.567458Z",
     "shell.execute_reply": "2025-02-18T11:23:18.566193Z"
    },
    "papermill": {
     "duration": 0.019586,
     "end_time": "2025-02-18T11:23:18.569214",
     "exception": false,
     "start_time": "2025-02-18T11:23:18.549628",
     "status": "completed"
    },
    "tags": []
   },
   "outputs": [
    {
     "name": "stdout",
     "output_type": "stream",
     "text": [
      "Number of Row : 824\n",
      "Number of Columns : 12\n"
     ]
    }
   ],
   "source": [
    "# The New of Shape Cleaned Data\n",
    "print(f\"Number of Row : {df_cleaned.shape[0]}\\nNumber of Columns : {df_cleaned.shape[1]}\")"
   ]
  },
  {
   "cell_type": "code",
   "execution_count": 18,
   "id": "1febe311",
   "metadata": {
    "execution": {
     "iopub.execute_input": "2025-02-18T11:23:18.593066Z",
     "iopub.status.busy": "2025-02-18T11:23:18.592666Z",
     "iopub.status.idle": "2025-02-18T11:23:19.267710Z",
     "shell.execute_reply": "2025-02-18T11:23:19.266221Z"
    },
    "papermill": {
     "duration": 0.689078,
     "end_time": "2025-02-18T11:23:19.269592",
     "exception": false,
     "start_time": "2025-02-18T11:23:18.580514",
     "status": "completed"
    },
    "tags": []
   },
   "outputs": [
    {
     "data": {
      "image/png": "[encoded data removed]",
      "text/plain": [
       "<Figure size 1500x600 with 5 Axes>"
      ]
     },
     "metadata": {},
     "output_type": "display_data"
    }
   ],
   "source": [
    "plt.figure(figsize=(15, 6))\n",
    "\n",
    "for i, col in enumerate(numerical_columns, 1):\n",
    "    plt.subplot(2, 3, i) \n",
    "    sns.boxplot(x = df_cleaned[col], color = \"skyblue\")\n",
    "    plt.title(f\"Box Plot of {col}\")\n",
    "\n",
    "plt.tight_layout()\n",
    "plt.show()"
   ]
  },
  {
   "cell_type": "code",
   "execution_count": 19,
   "id": "c8e0a37f",
   "metadata": {
    "execution": {
     "iopub.execute_input": "2025-02-18T11:23:19.308381Z",
     "iopub.status.busy": "2025-02-18T11:23:19.307962Z",
     "iopub.status.idle": "2025-02-18T11:23:19.323896Z",
     "shell.execute_reply": "2025-02-18T11:23:19.322780Z"
    },
    "papermill": {
     "duration": 0.036685,
     "end_time": "2025-02-18T11:23:19.325546",
     "exception": false,
     "start_time": "2025-02-18T11:23:19.288861",
     "status": "completed"
    },
    "tags": []
   },
   "outputs": [
    {
     "data": {
      "text/html": [
       "<div>\n",
       "<style scoped>\n",
       "    .dataframe tbody tr th:only-of-type {\n",
       "        vertical-align: middle;\n",
       "    }\n",
       "\n",
       "    .dataframe tbody tr th {\n",
       "        vertical-align: top;\n",
       "    }\n",
       "\n",
       "    .dataframe thead th {\n",
       "        text-align: right;\n",
       "    }\n",
       "</style>\n",
       "<table border=\"1\" class=\"dataframe\">\n",
       "  <thead>\n",
       "    <tr style=\"text-align: right;\">\n",
       "      <th></th>\n",
       "      <th>Age</th>\n",
       "      <th>Sex</th>\n",
       "      <th>ChestPainType</th>\n",
       "      <th>RestingBP</th>\n",
       "      <th>Cholesterol</th>\n",
       "      <th>FastingBS</th>\n",
       "      <th>RestingECG</th>\n",
       "      <th>MaxHR</th>\n",
       "      <th>ExerciseAngina</th>\n",
       "      <th>Oldpeak</th>\n",
       "      <th>ST_Slope</th>\n",
       "      <th>HeartDisease</th>\n",
       "    </tr>\n",
       "  </thead>\n",
       "  <tbody>\n",
       "    <tr>\n",
       "      <th>222</th>\n",
       "      <td>45</td>\n",
       "      <td>M</td>\n",
       "      <td>ASY</td>\n",
       "      <td>130.0</td>\n",
       "      <td>219.0</td>\n",
       "      <td>0</td>\n",
       "      <td>ST</td>\n",
       "      <td>130</td>\n",
       "      <td>Y</td>\n",
       "      <td>1.0</td>\n",
       "      <td>Flat</td>\n",
       "      <td>1</td>\n",
       "    </tr>\n",
       "    <tr>\n",
       "      <th>419</th>\n",
       "      <td>42</td>\n",
       "      <td>M</td>\n",
       "      <td>NAP</td>\n",
       "      <td>134.0</td>\n",
       "      <td>240.0</td>\n",
       "      <td>0</td>\n",
       "      <td>Normal</td>\n",
       "      <td>160</td>\n",
       "      <td>N</td>\n",
       "      <td>0.0</td>\n",
       "      <td>Up</td>\n",
       "      <td>0</td>\n",
       "    </tr>\n",
       "    <tr>\n",
       "      <th>241</th>\n",
       "      <td>45</td>\n",
       "      <td>M</td>\n",
       "      <td>ASY</td>\n",
       "      <td>120.0</td>\n",
       "      <td>225.0</td>\n",
       "      <td>0</td>\n",
       "      <td>Normal</td>\n",
       "      <td>140</td>\n",
       "      <td>N</td>\n",
       "      <td>0.0</td>\n",
       "      <td>Up</td>\n",
       "      <td>0</td>\n",
       "    </tr>\n",
       "    <tr>\n",
       "      <th>413</th>\n",
       "      <td>41</td>\n",
       "      <td>M</td>\n",
       "      <td>ASY</td>\n",
       "      <td>104.0</td>\n",
       "      <td>231.5</td>\n",
       "      <td>0</td>\n",
       "      <td>ST</td>\n",
       "      <td>111</td>\n",
       "      <td>N</td>\n",
       "      <td>0.0</td>\n",
       "      <td>Up</td>\n",
       "      <td>0</td>\n",
       "    </tr>\n",
       "    <tr>\n",
       "      <th>337</th>\n",
       "      <td>47</td>\n",
       "      <td>M</td>\n",
       "      <td>NAP</td>\n",
       "      <td>155.0</td>\n",
       "      <td>246.0</td>\n",
       "      <td>0</td>\n",
       "      <td>Normal</td>\n",
       "      <td>118</td>\n",
       "      <td>Y</td>\n",
       "      <td>1.0</td>\n",
       "      <td>Flat</td>\n",
       "      <td>1</td>\n",
       "    </tr>\n",
       "  </tbody>\n",
       "</table>\n",
       "</div>"
      ],
      "text/plain": [
       "     Age Sex ChestPainType  RestingBP  Cholesterol  FastingBS RestingECG  \\\n",
       "222   45   M           ASY      130.0        219.0          0         ST   \n",
       "419   42   M           NAP      134.0        240.0          0     Normal   \n",
       "241   45   M           ASY      120.0        225.0          0     Normal   \n",
       "413   41   M           ASY      104.0        231.5          0         ST   \n",
       "337   47   M           NAP      155.0        246.0          0     Normal   \n",
       "\n",
       "     MaxHR ExerciseAngina  Oldpeak ST_Slope  HeartDisease  \n",
       "222    130              Y      1.0     Flat             1  \n",
       "419    160              N      0.0       Up             0  \n",
       "241    140              N      0.0       Up             0  \n",
       "413    111              N      0.0       Up             0  \n",
       "337    118              Y      1.0     Flat             1  "
      ]
     },
     "execution_count": 19,
     "metadata": {},
     "output_type": "execute_result"
    }
   ],
   "source": [
    "df_cleaned.reset_index(inplace = True , drop = True)\n",
    "df_cleaned.sample(5)"
   ]
  },
  {
   "cell_type": "code",
   "execution_count": 20,
   "id": "a78a7f5c",
   "metadata": {
    "execution": {
     "iopub.execute_input": "2025-02-18T11:23:19.353885Z",
     "iopub.status.busy": "2025-02-18T11:23:19.352964Z",
     "iopub.status.idle": "2025-02-18T11:23:19.370567Z",
     "shell.execute_reply": "2025-02-18T11:23:19.369203Z"
    },
    "papermill": {
     "duration": 0.034906,
     "end_time": "2025-02-18T11:23:19.373024",
     "exception": false,
     "start_time": "2025-02-18T11:23:19.338118",
     "status": "completed"
    },
    "tags": []
   },
   "outputs": [
    {
     "name": "stdout",
     "output_type": "stream",
     "text": [
      "<class 'pandas.core.frame.DataFrame'>\n",
      "RangeIndex: 824 entries, 0 to 823\n",
      "Data columns (total 12 columns):\n",
      " #   Column          Non-Null Count  Dtype  \n",
      "---  ------          --------------  -----  \n",
      " 0   Age             824 non-null    int64  \n",
      " 1   Sex             824 non-null    object \n",
      " 2   ChestPainType   824 non-null    object \n",
      " 3   RestingBP       824 non-null    float64\n",
      " 4   Cholesterol     824 non-null    float64\n",
      " 5   FastingBS       824 non-null    int64  \n",
      " 6   RestingECG      824 non-null    object \n",
      " 7   MaxHR           824 non-null    int64  \n",
      " 8   ExerciseAngina  824 non-null    object \n",
      " 9   Oldpeak         824 non-null    float64\n",
      " 10  ST_Slope        824 non-null    object \n",
      " 11  HeartDisease    824 non-null    int64  \n",
      "dtypes: float64(3), int64(4), object(5)\n",
      "memory usage: 77.4+ KB\n"
     ]
    }
   ],
   "source": [
    "df_cleaned.info()"
   ]
  },
  {
   "cell_type": "markdown",
   "id": "dcca1a37",
   "metadata": {
    "papermill": {
     "duration": 0.018758,
     "end_time": "2025-02-18T11:23:19.406563",
     "exception": false,
     "start_time": "2025-02-18T11:23:19.387805",
     "status": "completed"
    },
    "tags": []
   },
   "source": [
    "<div style=\"color:white;\n",
    "            display:fill;\n",
    "            border-radius:15px;\n",
    "            background-color:#3B6790;\n",
    "            font-size:100%;\n",
    "            font-family:Verdana;\n",
    "            letter-spacing:1px\">\n",
    "    <h1 style='padding: 20px;\n",
    "              color:white;\n",
    "              text-align:center;'>\n",
    "        Data Preprocessing\n",
    "    </h1>\n",
    "   </div>"
   ]
  },
  {
   "cell_type": "markdown",
   "id": "849bbf3b",
   "metadata": {
    "papermill": {
     "duration": 0.014511,
     "end_time": "2025-02-18T11:23:19.435917",
     "exception": false,
     "start_time": "2025-02-18T11:23:19.421406",
     "status": "completed"
    },
    "tags": []
   },
   "source": [
    "## **Handling Object DataType**\n",
    "    Encode Object DataType"
   ]
  },
  {
   "cell_type": "code",
   "execution_count": 21,
   "id": "2dd71fc0",
   "metadata": {
    "execution": {
     "iopub.execute_input": "2025-02-18T11:23:19.465788Z",
     "iopub.status.busy": "2025-02-18T11:23:19.465315Z",
     "iopub.status.idle": "2025-02-18T11:23:19.484796Z",
     "shell.execute_reply": "2025-02-18T11:23:19.483637Z"
    },
    "papermill": {
     "duration": 0.034827,
     "end_time": "2025-02-18T11:23:19.486558",
     "exception": false,
     "start_time": "2025-02-18T11:23:19.451731",
     "status": "completed"
    },
    "tags": []
   },
   "outputs": [
    {
     "data": {
      "text/html": [
       "<div>\n",
       "<style scoped>\n",
       "    .dataframe tbody tr th:only-of-type {\n",
       "        vertical-align: middle;\n",
       "    }\n",
       "\n",
       "    .dataframe tbody tr th {\n",
       "        vertical-align: top;\n",
       "    }\n",
       "\n",
       "    .dataframe thead th {\n",
       "        text-align: right;\n",
       "    }\n",
       "</style>\n",
       "<table border=\"1\" class=\"dataframe\">\n",
       "  <thead>\n",
       "    <tr style=\"text-align: right;\">\n",
       "      <th></th>\n",
       "      <th>Age</th>\n",
       "      <th>Sex</th>\n",
       "      <th>ChestPainType</th>\n",
       "      <th>RestingBP</th>\n",
       "      <th>Cholesterol</th>\n",
       "      <th>FastingBS</th>\n",
       "      <th>RestingECG</th>\n",
       "      <th>MaxHR</th>\n",
       "      <th>ExerciseAngina</th>\n",
       "      <th>Oldpeak</th>\n",
       "      <th>ST_Slope</th>\n",
       "      <th>HeartDisease</th>\n",
       "    </tr>\n",
       "  </thead>\n",
       "  <tbody>\n",
       "    <tr>\n",
       "      <th>0</th>\n",
       "      <td>40</td>\n",
       "      <td>1</td>\n",
       "      <td>1</td>\n",
       "      <td>140.0</td>\n",
       "      <td>289.0</td>\n",
       "      <td>0</td>\n",
       "      <td>1</td>\n",
       "      <td>172</td>\n",
       "      <td>0</td>\n",
       "      <td>0.0</td>\n",
       "      <td>2</td>\n",
       "      <td>0</td>\n",
       "    </tr>\n",
       "    <tr>\n",
       "      <th>1</th>\n",
       "      <td>49</td>\n",
       "      <td>0</td>\n",
       "      <td>2</td>\n",
       "      <td>160.0</td>\n",
       "      <td>180.0</td>\n",
       "      <td>0</td>\n",
       "      <td>1</td>\n",
       "      <td>156</td>\n",
       "      <td>0</td>\n",
       "      <td>1.0</td>\n",
       "      <td>1</td>\n",
       "      <td>1</td>\n",
       "    </tr>\n",
       "    <tr>\n",
       "      <th>2</th>\n",
       "      <td>37</td>\n",
       "      <td>1</td>\n",
       "      <td>1</td>\n",
       "      <td>130.0</td>\n",
       "      <td>283.0</td>\n",
       "      <td>0</td>\n",
       "      <td>2</td>\n",
       "      <td>98</td>\n",
       "      <td>0</td>\n",
       "      <td>0.0</td>\n",
       "      <td>2</td>\n",
       "      <td>0</td>\n",
       "    </tr>\n",
       "    <tr>\n",
       "      <th>3</th>\n",
       "      <td>48</td>\n",
       "      <td>0</td>\n",
       "      <td>0</td>\n",
       "      <td>138.0</td>\n",
       "      <td>214.0</td>\n",
       "      <td>0</td>\n",
       "      <td>1</td>\n",
       "      <td>108</td>\n",
       "      <td>1</td>\n",
       "      <td>1.5</td>\n",
       "      <td>1</td>\n",
       "      <td>1</td>\n",
       "    </tr>\n",
       "    <tr>\n",
       "      <th>4</th>\n",
       "      <td>54</td>\n",
       "      <td>1</td>\n",
       "      <td>2</td>\n",
       "      <td>150.0</td>\n",
       "      <td>195.0</td>\n",
       "      <td>0</td>\n",
       "      <td>1</td>\n",
       "      <td>122</td>\n",
       "      <td>0</td>\n",
       "      <td>0.0</td>\n",
       "      <td>2</td>\n",
       "      <td>0</td>\n",
       "    </tr>\n",
       "  </tbody>\n",
       "</table>\n",
       "</div>"
      ],
      "text/plain": [
       "   Age  Sex  ChestPainType  RestingBP  Cholesterol  FastingBS  RestingECG  \\\n",
       "0   40    1              1      140.0        289.0          0           1   \n",
       "1   49    0              2      160.0        180.0          0           1   \n",
       "2   37    1              1      130.0        283.0          0           2   \n",
       "3   48    0              0      138.0        214.0          0           1   \n",
       "4   54    1              2      150.0        195.0          0           1   \n",
       "\n",
       "   MaxHR  ExerciseAngina  Oldpeak  ST_Slope  HeartDisease  \n",
       "0    172               0      0.0         2             0  \n",
       "1    156               0      1.0         1             1  \n",
       "2     98               0      0.0         2             0  \n",
       "3    108               1      1.5         1             1  \n",
       "4    122               0      0.0         2             0  "
      ]
     },
     "execution_count": 21,
     "metadata": {},
     "output_type": "execute_result"
    }
   ],
   "source": [
    "column_to_encode = df.select_dtypes(object).columns.tolist()\n",
    "le = LabelEncoder()\n",
    "for column in column_to_encode:\n",
    "    df_cleaned[column] = le.fit_transform(df_cleaned[column])\n",
    "# Show Data After some of Encode\n",
    "df_cleaned.head()"
   ]
  },
  {
   "cell_type": "code",
   "execution_count": 22,
   "id": "928eccfe",
   "metadata": {
    "execution": {
     "iopub.execute_input": "2025-02-18T11:23:19.513596Z",
     "iopub.status.busy": "2025-02-18T11:23:19.513201Z",
     "iopub.status.idle": "2025-02-18T11:23:19.525531Z",
     "shell.execute_reply": "2025-02-18T11:23:19.524241Z"
    },
    "papermill": {
     "duration": 0.027795,
     "end_time": "2025-02-18T11:23:19.527262",
     "exception": false,
     "start_time": "2025-02-18T11:23:19.499467",
     "status": "completed"
    },
    "tags": []
   },
   "outputs": [
    {
     "name": "stdout",
     "output_type": "stream",
     "text": [
      "<class 'pandas.core.frame.DataFrame'>\n",
      "RangeIndex: 824 entries, 0 to 823\n",
      "Data columns (total 12 columns):\n",
      " #   Column          Non-Null Count  Dtype  \n",
      "---  ------          --------------  -----  \n",
      " 0   Age             824 non-null    int64  \n",
      " 1   Sex             824 non-null    int64  \n",
      " 2   ChestPainType   824 non-null    int64  \n",
      " 3   RestingBP       824 non-null    float64\n",
      " 4   Cholesterol     824 non-null    float64\n",
      " 5   FastingBS       824 non-null    int64  \n",
      " 6   RestingECG      824 non-null    int64  \n",
      " 7   MaxHR           824 non-null    int64  \n",
      " 8   ExerciseAngina  824 non-null    int64  \n",
      " 9   Oldpeak         824 non-null    float64\n",
      " 10  ST_Slope        824 non-null    int64  \n",
      " 11  HeartDisease    824 non-null    int64  \n",
      "dtypes: float64(3), int64(9)\n",
      "memory usage: 77.4 KB\n"
     ]
    }
   ],
   "source": [
    "# Final Info after Encode\n",
    "df_cleaned.info()"
   ]
  },
  {
   "cell_type": "markdown",
   "id": "f99956c2",
   "metadata": {
    "papermill": {
     "duration": 0.012378,
     "end_time": "2025-02-18T11:23:19.552526",
     "exception": false,
     "start_time": "2025-02-18T11:23:19.540148",
     "status": "completed"
    },
    "tags": []
   },
   "source": [
    "## **Assign feature and target variables**"
   ]
  },
  {
   "cell_type": "code",
   "execution_count": 23,
   "id": "eeefec60",
   "metadata": {
    "execution": {
     "iopub.execute_input": "2025-02-18T11:23:19.584029Z",
     "iopub.status.busy": "2025-02-18T11:23:19.583401Z",
     "iopub.status.idle": "2025-02-18T11:23:19.590584Z",
     "shell.execute_reply": "2025-02-18T11:23:19.589248Z"
    },
    "papermill": {
     "duration": 0.026189,
     "end_time": "2025-02-18T11:23:19.592815",
     "exception": false,
     "start_time": "2025-02-18T11:23:19.566626",
     "status": "completed"
    },
    "tags": []
   },
   "outputs": [],
   "source": [
    "X = df_cleaned.drop('HeartDisease' , axis = 1)\n",
    "y = df_cleaned['HeartDisease']"
   ]
  },
  {
   "cell_type": "markdown",
   "id": "79a9dc44",
   "metadata": {
    "papermill": {
     "duration": 0.015874,
     "end_time": "2025-02-18T11:23:19.627695",
     "exception": false,
     "start_time": "2025-02-18T11:23:19.611821",
     "status": "completed"
    },
    "tags": []
   },
   "source": [
    "## **Splitting Data**"
   ]
  },
  {
   "cell_type": "code",
   "execution_count": 24,
   "id": "2644c69e",
   "metadata": {
    "execution": {
     "iopub.execute_input": "2025-02-18T11:23:19.654551Z",
     "iopub.status.busy": "2025-02-18T11:23:19.654164Z",
     "iopub.status.idle": "2025-02-18T11:23:19.661910Z",
     "shell.execute_reply": "2025-02-18T11:23:19.660967Z"
    },
    "papermill": {
     "duration": 0.023238,
     "end_time": "2025-02-18T11:23:19.663833",
     "exception": false,
     "start_time": "2025-02-18T11:23:19.640595",
     "status": "completed"
    },
    "tags": []
   },
   "outputs": [],
   "source": [
    "X_train , X_test , y_train , y_test = train_test_split(X , y , test_size = 0.25 , random_state = 44 , shuffle = True)"
   ]
  },
  {
   "cell_type": "code",
   "execution_count": 25,
   "id": "bbcc008a",
   "metadata": {
    "execution": {
     "iopub.execute_input": "2025-02-18T11:23:19.691775Z",
     "iopub.status.busy": "2025-02-18T11:23:19.691383Z",
     "iopub.status.idle": "2025-02-18T11:23:19.697889Z",
     "shell.execute_reply": "2025-02-18T11:23:19.696829Z"
    },
    "papermill": {
     "duration": 0.023041,
     "end_time": "2025-02-18T11:23:19.699710",
     "exception": false,
     "start_time": "2025-02-18T11:23:19.676669",
     "status": "completed"
    },
    "tags": []
   },
   "outputs": [
    {
     "name": "stdout",
     "output_type": "stream",
     "text": [
      "Shape of X_Train (618, 11)\n",
      "Shape of X_Test (206, 11)\n",
      "Shape of Y_Train (618,)\n",
      "Shape of Y_Test (206,)\n"
     ]
    }
   ],
   "source": [
    "print(f'Shape of X_Train {X_train.shape}')\n",
    "print(f'Shape of X_Test {X_test.shape}')\n",
    "print(f'Shape of Y_Train {y_train.shape}')\n",
    "print(f'Shape of Y_Test {y_test.shape}')"
   ]
  },
  {
   "cell_type": "markdown",
   "id": "3de22216",
   "metadata": {
    "papermill": {
     "duration": 0.012435,
     "end_time": "2025-02-18T11:23:19.780872",
     "exception": false,
     "start_time": "2025-02-18T11:23:19.768437",
     "status": "completed"
    },
    "tags": []
   },
   "source": [
    "<div style=\"color:white;\n",
    "            display:fill;\n",
    "            border-radius:15px;\n",
    "            background-color:#3B6790;\n",
    "            font-size:100%;\n",
    "            font-family:Verdana;\n",
    "            letter-spacing:1px\">\n",
    "    <h1 style='padding: 20px;\n",
    "              color:white;\n",
    "              text-align:center;'>\n",
    "        Model\n",
    "    </h1>\n",
    "   </div>"
   ]
  },
  {
   "cell_type": "code",
   "execution_count": 26,
   "id": "51d5698c",
   "metadata": {
    "execution": {
     "iopub.execute_input": "2025-02-18T11:23:19.807601Z",
     "iopub.status.busy": "2025-02-18T11:23:19.807179Z",
     "iopub.status.idle": "2025-02-18T11:23:19.813506Z",
     "shell.execute_reply": "2025-02-18T11:23:19.812365Z"
    },
    "papermill": {
     "duration": 0.021879,
     "end_time": "2025-02-18T11:23:19.815284",
     "exception": false,
     "start_time": "2025-02-18T11:23:19.793405",
     "status": "completed"
    },
    "tags": []
   },
   "outputs": [],
   "source": [
    "def Kfold(model,model_name):\n",
    "    model = cross_val_score(model , X , y , cv = 10)\n",
    "    model_score = np.average(model)\n",
    "    print(f\"{model_name} score on cross validation: {model_score * 100}%\")\n",
    "\n",
    "def train(model,model_name):\n",
    "    model.fit(X_train,y_train)\n",
    "    model_train_score = model.score(X_train,y_train)\n",
    "    model_test_score = model.score(X_test,y_test)\n",
    "    print(f\"{model_name} model score on Training data: {model_train_score * 100}%\\n{model_name} model score on Testing data: {model_test_score * 100}%\")\n",
    "\n",
    "def class_report(model):\n",
    "    y_pred = model.predict(X_test)\n",
    "    print(classification_report(y_test, y_pred))"
   ]
  },
  {
   "cell_type": "markdown",
   "id": "db4218a9",
   "metadata": {
    "papermill": {
     "duration": 0.012319,
     "end_time": "2025-02-18T11:23:19.840268",
     "exception": false,
     "start_time": "2025-02-18T11:23:19.827949",
     "status": "completed"
    },
    "tags": []
   },
   "source": [
    "## **Decision Tree**"
   ]
  },
  {
   "cell_type": "code",
   "execution_count": 27,
   "id": "b7d2e6ec",
   "metadata": {
    "execution": {
     "iopub.execute_input": "2025-02-18T11:23:19.868899Z",
     "iopub.status.busy": "2025-02-18T11:23:19.868301Z",
     "iopub.status.idle": "2025-02-18T11:23:19.984945Z",
     "shell.execute_reply": "2025-02-18T11:23:19.983621Z"
    },
    "papermill": {
     "duration": 0.133212,
     "end_time": "2025-02-18T11:23:19.986730",
     "exception": false,
     "start_time": "2025-02-18T11:23:19.853518",
     "status": "completed"
    },
    "tags": []
   },
   "outputs": [
    {
     "name": "stdout",
     "output_type": "stream",
     "text": [
      "Decision Tree score on cross validation: 79.95592124595944%\n",
      "Decision Tree model score on Training data: 100.0%\n",
      "Decision Tree model score on Testing data: 84.46601941747572%\n",
      "              precision    recall  f1-score   support\n",
      "\n",
      "           0       0.86      0.84      0.85       106\n",
      "           1       0.83      0.85      0.84       100\n",
      "\n",
      "    accuracy                           0.84       206\n",
      "   macro avg       0.84      0.84      0.84       206\n",
      "weighted avg       0.84      0.84      0.84       206\n",
      "\n"
     ]
    }
   ],
   "source": [
    "model = DecisionTreeClassifier(criterion='gini', max_depth=None, min_samples_split=2, min_samples_leaf=1, random_state=44)\n",
    "# call functiom\n",
    "Kfold(model, \"Decision Tree\")  \n",
    "train(model, \"Decision Tree\")  \n",
    "class_report(model)  "
   ]
  },
  {
   "cell_type": "code",
   "execution_count": 28,
   "id": "4ad62b58",
   "metadata": {
    "execution": {
     "iopub.execute_input": "2025-02-18T11:23:20.013959Z",
     "iopub.status.busy": "2025-02-18T11:23:20.013604Z",
     "iopub.status.idle": "2025-02-18T11:23:20.245625Z",
     "shell.execute_reply": "2025-02-18T11:23:20.244542Z"
    },
    "papermill": {
     "duration": 0.247499,
     "end_time": "2025-02-18T11:23:20.247432",
     "exception": false,
     "start_time": "2025-02-18T11:23:19.999933",
     "status": "completed"
    },
    "tags": []
   },
   "outputs": [
    {
     "data": {
      "image/png": "[encoded data removed]",
      "text/plain": [
       "<Figure size 640x480 with 2 Axes>"
      ]
     },
     "metadata": {},
     "output_type": "display_data"
    }
   ],
   "source": [
    "ConfusionMatrixDisplay.from_estimator(model,\n",
    "                                       X_test,\n",
    "                                       y_test,\n",
    "                                       xticks_rotation=45\n",
    "    );"
   ]
  },
  {
   "cell_type": "markdown",
   "id": "b861ae97",
   "metadata": {
    "papermill": {
     "duration": 0.013451,
     "end_time": "2025-02-18T11:23:20.274423",
     "exception": false,
     "start_time": "2025-02-18T11:23:20.260972",
     "status": "completed"
    },
    "tags": []
   },
   "source": [
    "## **ดึงกฎจาก Decision Tree**"
   ]
  },
  {
   "cell_type": "code",
   "execution_count": 29,
   "id": "16b05dc9",
   "metadata": {
    "execution": {
     "iopub.execute_input": "2025-02-18T11:23:20.303571Z",
     "iopub.status.busy": "2025-02-18T11:23:20.303197Z",
     "iopub.status.idle": "2025-02-18T11:23:20.314016Z",
     "shell.execute_reply": "2025-02-18T11:23:20.312669Z"
    },
    "papermill": {
     "duration": 0.027051,
     "end_time": "2025-02-18T11:23:20.315939",
     "exception": false,
     "start_time": "2025-02-18T11:23:20.288888",
     "status": "completed"
    },
    "tags": []
   },
   "outputs": [
    {
     "name": "stdout",
     "output_type": "stream",
     "text": [
      "|--- ST_Slope <= 1.50\n",
      "|   |--- Sex <= 0.50\n",
      "|   |   |--- ChestPainType <= 0.50\n",
      "|   |   |   |--- Cholesterol <= 192.50\n",
      "|   |   |   |   |--- class: 0\n",
      "|   |   |   |--- Cholesterol >  192.50\n",
      "|   |   |   |   |--- RestingECG <= 0.50\n",
      "|   |   |   |   |   |--- Oldpeak <= 0.70\n",
      "|   |   |   |   |   |   |--- class: 0\n",
      "|   |   |   |   |   |--- Oldpeak >  0.70\n",
      "|   |   |   |   |   |   |--- RestingBP <= 116.00\n",
      "|   |   |   |   |   |   |   |--- class: 0\n",
      "|   |   |   |   |   |   |--- RestingBP >  116.00\n",
      "|   |   |   |   |   |   |   |--- class: 1\n",
      "|   |   |   |   |--- RestingECG >  0.50\n",
      "|   |   |   |   |   |--- Age <= 50.50\n",
      "|   |   |   |   |   |   |--- Cholesterol <= 287.00\n",
      "|   |   |   |   |   |   |   |--- class: 1\n",
      "|   |   |   |   |   |   |--- Cholesterol >  287.00\n",
      "|   |   |   |   |   |   |   |--- class: 0\n",
      "|   |   |   |   |   |--- Age >  50.50\n",
      "|   |   |   |   |   |   |--- class: 1\n",
      "|   |   |--- ChestPainType >  0.50\n",
      "|   |   |   |--- Cholesterol <= 278.50\n",
      "|   |   |   |   |--- MaxHR <= 105.50\n",
      "|   |   |   |   |   |--- class: 1\n",
      "|   |   |   |   |--- MaxHR >  105.50\n",
      "|   |   |   |   |   |--- class: 0\n",
      "|   |   |   |--- Cholesterol >  278.50\n",
      "|   |   |   |   |--- Oldpeak <= 0.50\n",
      "|   |   |   |   |   |--- class: 1\n",
      "|   |   |   |   |--- Oldpeak >  0.50\n",
      "|   |   |   |   |   |--- Cholesterol <= 286.50\n",
      "|   |   |   |   |   |   |--- class: 1\n",
      "|   |   |   |   |   |--- Cholesterol >  286.50\n",
      "|   |   |   |   |   |   |--- class: 0\n",
      "|   |--- Sex >  0.50\n",
      "|   |   |--- ChestPainType <= 0.50\n",
      "|   |   |   |--- MaxHR <= 175.50\n",
      "|   |   |   |   |--- Age <= 74.50\n",
      "|   |   |   |   |   |--- Cholesterol <= 238.50\n",
      "|   |   |   |   |   |   |--- Cholesterol <= 237.50\n",
      "|   |   |   |   |   |   |   |--- Oldpeak <= 1.55\n",
      "|   |   |   |   |   |   |   |   |--- Age <= 56.50\n",
      "|   |   |   |   |   |   |   |   |   |--- Cholesterol <= 173.00\n",
      "|   |   |   |   |   |   |   |   |   |   |--- RestingBP <= 140.50\n",
      "|   |   |   |   |   |   |   |   |   |   |   |--- class: 1\n",
      "|   |   |   |   |   |   |   |   |   |   |--- RestingBP >  140.50\n",
      "|   |   |   |   |   |   |   |   |   |   |   |--- class: 0\n",
      "|   |   |   |   |   |   |   |   |   |--- Cholesterol >  173.00\n",
      "|   |   |   |   |   |   |   |   |   |   |--- class: 1\n",
      "|   |   |   |   |   |   |   |   |--- Age >  56.50\n",
      "|   |   |   |   |   |   |   |   |   |--- Age <= 57.50\n",
      "|   |   |   |   |   |   |   |   |   |   |--- class: 0\n",
      "|   |   |   |   |   |   |   |   |   |--- Age >  57.50\n",
      "|   |   |   |   |   |   |   |   |   |   |--- ExerciseAngina <= 0.50\n",
      "|   |   |   |   |   |   |   |   |   |   |   |--- truncated branch of depth 2\n",
      "|   |   |   |   |   |   |   |   |   |   |--- ExerciseAngina >  0.50\n",
      "|   |   |   |   |   |   |   |   |   |   |   |--- class: 1\n",
      "|   |   |   |   |   |   |   |--- Oldpeak >  1.55\n",
      "|   |   |   |   |   |   |   |   |--- class: 1\n",
      "|   |   |   |   |   |   |--- Cholesterol >  237.50\n",
      "|   |   |   |   |   |   |   |--- class: 0\n",
      "|   |   |   |   |   |--- Cholesterol >  238.50\n",
      "|   |   |   |   |   |   |--- Cholesterol <= 259.50\n",
      "|   |   |   |   |   |   |   |--- class: 1\n",
      "|   |   |   |   |   |   |--- Cholesterol >  259.50\n",
      "|   |   |   |   |   |   |   |--- Cholesterol <= 263.50\n",
      "|   |   |   |   |   |   |   |   |--- MaxHR <= 107.50\n",
      "|   |   |   |   |   |   |   |   |   |--- class: 0\n",
      "|   |   |   |   |   |   |   |   |--- MaxHR >  107.50\n",
      "|   |   |   |   |   |   |   |   |   |--- RestingECG <= 1.50\n",
      "|   |   |   |   |   |   |   |   |   |   |--- class: 1\n",
      "|   |   |   |   |   |   |   |   |   |--- RestingECG >  1.50\n",
      "|   |   |   |   |   |   |   |   |   |   |--- RestingBP <= 132.00\n",
      "|   |   |   |   |   |   |   |   |   |   |   |--- class: 0\n",
      "|   |   |   |   |   |   |   |   |   |   |--- RestingBP >  132.00\n",
      "|   |   |   |   |   |   |   |   |   |   |   |--- class: 1\n",
      "|   |   |   |   |   |   |   |--- Cholesterol >  263.50\n",
      "|   |   |   |   |   |   |   |   |--- Age <= 65.50\n",
      "|   |   |   |   |   |   |   |   |   |--- class: 1\n",
      "|   |   |   |   |   |   |   |   |--- Age >  65.50\n",
      "|   |   |   |   |   |   |   |   |   |--- Age <= 66.50\n",
      "|   |   |   |   |   |   |   |   |   |   |--- class: 0\n",
      "|   |   |   |   |   |   |   |   |   |--- Age >  66.50\n",
      "|   |   |   |   |   |   |   |   |   |   |--- class: 1\n",
      "|   |   |   |   |--- Age >  74.50\n",
      "|   |   |   |   |   |--- Oldpeak <= 2.50\n",
      "|   |   |   |   |   |   |--- class: 0\n",
      "|   |   |   |   |   |--- Oldpeak >  2.50\n",
      "|   |   |   |   |   |   |--- class: 1\n",
      "|   |   |   |--- MaxHR >  175.50\n",
      "|   |   |   |   |--- FastingBS <= 0.50\n",
      "|   |   |   |   |   |--- class: 0\n",
      "|   |   |   |   |--- FastingBS >  0.50\n",
      "|   |   |   |   |   |--- class: 1\n",
      "|   |   |--- ChestPainType >  0.50\n",
      "|   |   |   |--- MaxHR <= 141.00\n",
      "|   |   |   |   |--- Cholesterol <= 244.00\n",
      "|   |   |   |   |   |--- Cholesterol <= 229.75\n",
      "|   |   |   |   |   |   |--- RestingECG <= 0.50\n",
      "|   |   |   |   |   |   |   |--- class: 0\n",
      "|   |   |   |   |   |   |--- RestingECG >  0.50\n",
      "|   |   |   |   |   |   |   |--- Age <= 45.00\n",
      "|   |   |   |   |   |   |   |   |--- class: 0\n",
      "|   |   |   |   |   |   |   |--- Age >  45.00\n",
      "|   |   |   |   |   |   |   |   |--- class: 1\n",
      "|   |   |   |   |   |--- Cholesterol >  229.75\n",
      "|   |   |   |   |   |   |--- class: 0\n",
      "|   |   |   |   |--- Cholesterol >  244.00\n",
      "|   |   |   |   |   |--- Cholesterol <= 317.00\n",
      "|   |   |   |   |   |   |--- class: 1\n",
      "|   |   |   |   |   |--- Cholesterol >  317.00\n",
      "|   |   |   |   |   |   |--- Cholesterol <= 327.50\n",
      "|   |   |   |   |   |   |   |--- class: 0\n",
      "|   |   |   |   |   |   |--- Cholesterol >  327.50\n",
      "|   |   |   |   |   |   |   |--- class: 1\n",
      "|   |   |   |--- MaxHR >  141.00\n",
      "|   |   |   |   |--- RestingBP <= 131.00\n",
      "|   |   |   |   |   |--- Cholesterol <= 228.50\n",
      "|   |   |   |   |   |   |--- class: 0\n",
      "|   |   |   |   |   |--- Cholesterol >  228.50\n",
      "|   |   |   |   |   |   |--- RestingBP <= 117.50\n",
      "|   |   |   |   |   |   |   |--- class: 1\n",
      "|   |   |   |   |   |   |--- RestingBP >  117.50\n",
      "|   |   |   |   |   |   |   |--- MaxHR <= 145.50\n",
      "|   |   |   |   |   |   |   |   |--- class: 1\n",
      "|   |   |   |   |   |   |   |--- MaxHR >  145.50\n",
      "|   |   |   |   |   |   |   |   |--- RestingBP <= 129.00\n",
      "|   |   |   |   |   |   |   |   |   |--- Oldpeak <= 1.00\n",
      "|   |   |   |   |   |   |   |   |   |   |--- RestingBP <= 126.50\n",
      "|   |   |   |   |   |   |   |   |   |   |   |--- class: 0\n",
      "|   |   |   |   |   |   |   |   |   |   |--- RestingBP >  126.50\n",
      "|   |   |   |   |   |   |   |   |   |   |   |--- class: 1\n",
      "|   |   |   |   |   |   |   |   |   |--- Oldpeak >  1.00\n",
      "|   |   |   |   |   |   |   |   |   |   |--- class: 1\n",
      "|   |   |   |   |   |   |   |   |--- RestingBP >  129.00\n",
      "|   |   |   |   |   |   |   |   |   |--- class: 0\n",
      "|   |   |   |   |--- RestingBP >  131.00\n",
      "|   |   |   |   |   |--- ST_Slope <= 0.50\n",
      "|   |   |   |   |   |   |--- class: 0\n",
      "|   |   |   |   |   |--- ST_Slope >  0.50\n",
      "|   |   |   |   |   |   |--- Cholesterol <= 295.00\n",
      "|   |   |   |   |   |   |   |--- class: 1\n",
      "|   |   |   |   |   |   |--- Cholesterol >  295.00\n",
      "|   |   |   |   |   |   |   |--- class: 0\n",
      "|--- ST_Slope >  1.50\n",
      "|   |--- ChestPainType <= 0.50\n",
      "|   |   |--- Oldpeak <= 0.05\n",
      "|   |   |   |--- MaxHR <= 149.00\n",
      "|   |   |   |   |--- Age <= 65.00\n",
      "|   |   |   |   |   |--- class: 0\n",
      "|   |   |   |   |--- Age >  65.00\n",
      "|   |   |   |   |   |--- class: 1\n",
      "|   |   |   |--- MaxHR >  149.00\n",
      "|   |   |   |   |--- MaxHR <= 181.50\n",
      "|   |   |   |   |   |--- Age <= 57.50\n",
      "|   |   |   |   |   |   |--- Age <= 52.50\n",
      "|   |   |   |   |   |   |   |--- MaxHR <= 158.50\n",
      "|   |   |   |   |   |   |   |   |--- class: 1\n",
      "|   |   |   |   |   |   |   |--- MaxHR >  158.50\n",
      "|   |   |   |   |   |   |   |   |--- RestingBP <= 146.00\n",
      "|   |   |   |   |   |   |   |   |   |--- Age <= 51.00\n",
      "|   |   |   |   |   |   |   |   |   |   |--- Cholesterol <= 204.00\n",
      "|   |   |   |   |   |   |   |   |   |   |   |--- class: 1\n",
      "|   |   |   |   |   |   |   |   |   |   |--- Cholesterol >  204.00\n",
      "|   |   |   |   |   |   |   |   |   |   |   |--- class: 0\n",
      "|   |   |   |   |   |   |   |   |   |--- Age >  51.00\n",
      "|   |   |   |   |   |   |   |   |   |   |--- class: 1\n",
      "|   |   |   |   |   |   |   |   |--- RestingBP >  146.00\n",
      "|   |   |   |   |   |   |   |   |   |--- class: 1\n",
      "|   |   |   |   |   |   |--- Age >  52.50\n",
      "|   |   |   |   |   |   |   |--- class: 0\n",
      "|   |   |   |   |   |--- Age >  57.50\n",
      "|   |   |   |   |   |   |--- Age <= 61.50\n",
      "|   |   |   |   |   |   |   |--- class: 1\n",
      "|   |   |   |   |   |   |--- Age >  61.50\n",
      "|   |   |   |   |   |   |   |--- class: 0\n",
      "|   |   |   |   |--- MaxHR >  181.50\n",
      "|   |   |   |   |   |--- class: 0\n",
      "|   |   |--- Oldpeak >  0.05\n",
      "|   |   |   |--- Cholesterol <= 242.50\n",
      "|   |   |   |   |--- ExerciseAngina <= 0.50\n",
      "|   |   |   |   |   |--- MaxHR <= 164.00\n",
      "|   |   |   |   |   |   |--- class: 0\n",
      "|   |   |   |   |   |--- MaxHR >  164.00\n",
      "|   |   |   |   |   |   |--- Cholesterol <= 197.50\n",
      "|   |   |   |   |   |   |   |--- class: 0\n",
      "|   |   |   |   |   |   |--- Cholesterol >  197.50\n",
      "|   |   |   |   |   |   |   |--- class: 1\n",
      "|   |   |   |   |--- ExerciseAngina >  0.50\n",
      "|   |   |   |   |   |--- Cholesterol <= 230.75\n",
      "|   |   |   |   |   |   |--- class: 1\n",
      "|   |   |   |   |   |--- Cholesterol >  230.75\n",
      "|   |   |   |   |   |   |--- class: 0\n",
      "|   |   |   |--- Cholesterol >  242.50\n",
      "|   |   |   |   |--- Sex <= 0.50\n",
      "|   |   |   |   |   |--- class: 0\n",
      "|   |   |   |   |--- Sex >  0.50\n",
      "|   |   |   |   |   |--- RestingBP <= 131.00\n",
      "|   |   |   |   |   |   |--- class: 1\n",
      "|   |   |   |   |   |--- RestingBP >  131.00\n",
      "|   |   |   |   |   |   |--- Age <= 49.50\n",
      "|   |   |   |   |   |   |   |--- Cholesterol <= 246.50\n",
      "|   |   |   |   |   |   |   |   |--- class: 1\n",
      "|   |   |   |   |   |   |   |--- Cholesterol >  246.50\n",
      "|   |   |   |   |   |   |   |   |--- class: 0\n",
      "|   |   |   |   |   |   |--- Age >  49.50\n",
      "|   |   |   |   |   |   |   |--- class: 1\n",
      "|   |--- ChestPainType >  0.50\n",
      "|   |   |--- Oldpeak <= 2.25\n",
      "|   |   |   |--- Age <= 72.00\n",
      "|   |   |   |   |--- Age <= 56.50\n",
      "|   |   |   |   |   |--- RestingBP <= 97.50\n",
      "|   |   |   |   |   |   |--- Cholesterol <= 236.50\n",
      "|   |   |   |   |   |   |   |--- class: 0\n",
      "|   |   |   |   |   |   |--- Cholesterol >  236.50\n",
      "|   |   |   |   |   |   |   |--- class: 1\n",
      "|   |   |   |   |   |--- RestingBP >  97.50\n",
      "|   |   |   |   |   |   |--- Cholesterol <= 153.00\n",
      "|   |   |   |   |   |   |   |--- Oldpeak <= 0.40\n",
      "|   |   |   |   |   |   |   |   |--- class: 0\n",
      "|   |   |   |   |   |   |   |--- Oldpeak >  0.40\n",
      "|   |   |   |   |   |   |   |   |--- class: 1\n",
      "|   |   |   |   |   |   |--- Cholesterol >  153.00\n",
      "|   |   |   |   |   |   |   |--- class: 0\n",
      "|   |   |   |   |--- Age >  56.50\n",
      "|   |   |   |   |   |--- Cholesterol <= 318.50\n",
      "|   |   |   |   |   |   |--- Age <= 57.50\n",
      "|   |   |   |   |   |   |   |--- RestingBP <= 132.00\n",
      "|   |   |   |   |   |   |   |   |--- class: 1\n",
      "|   |   |   |   |   |   |   |--- RestingBP >  132.00\n",
      "|   |   |   |   |   |   |   |   |--- RestingECG <= 0.50\n",
      "|   |   |   |   |   |   |   |   |   |--- class: 1\n",
      "|   |   |   |   |   |   |   |   |--- RestingECG >  0.50\n",
      "|   |   |   |   |   |   |   |   |   |--- class: 0\n",
      "|   |   |   |   |   |   |--- Age >  57.50\n",
      "|   |   |   |   |   |   |   |--- RestingBP <= 157.50\n",
      "|   |   |   |   |   |   |   |   |--- class: 0\n",
      "|   |   |   |   |   |   |   |--- RestingBP >  157.50\n",
      "|   |   |   |   |   |   |   |   |--- Age <= 60.50\n",
      "|   |   |   |   |   |   |   |   |   |--- class: 1\n",
      "|   |   |   |   |   |   |   |   |--- Age >  60.50\n",
      "|   |   |   |   |   |   |   |   |   |--- class: 0\n",
      "|   |   |   |   |   |--- Cholesterol >  318.50\n",
      "|   |   |   |   |   |   |--- class: 1\n",
      "|   |   |   |--- Age >  72.00\n",
      "|   |   |   |   |--- class: 1\n",
      "|   |   |--- Oldpeak >  2.25\n",
      "|   |   |   |--- class: 1\n",
      "\n"
     ]
    }
   ],
   "source": [
    "tree_rules = export_text(model, feature_names=list(X_train.columns))\n",
    "print(tree_rules)"
   ]
  },
  {
   "cell_type": "markdown",
   "id": "49afbcf0",
   "metadata": {
    "papermill": {
     "duration": 0.013417,
     "end_time": "2025-02-18T11:23:20.343533",
     "exception": false,
     "start_time": "2025-02-18T11:23:20.330116",
     "status": "completed"
    },
    "tags": []
   },
   "source": [
    "## Save DecisionTree Model"
   ]
  },
  {
   "cell_type": "code",
   "execution_count": 30,
   "id": "7a647efd",
   "metadata": {
    "execution": {
     "iopub.execute_input": "2025-02-18T11:23:20.372642Z",
     "iopub.status.busy": "2025-02-18T11:23:20.372207Z",
     "iopub.status.idle": "2025-02-18T11:23:20.380611Z",
     "shell.execute_reply": "2025-02-18T11:23:20.379676Z"
    },
    "papermill": {
     "duration": 0.024521,
     "end_time": "2025-02-18T11:23:20.382208",
     "exception": false,
     "start_time": "2025-02-18T11:23:20.357687",
     "status": "completed"
    },
    "tags": []
   },
   "outputs": [
    {
     "data": {
      "text/plain": [
       "['DecisionTree_model.joblib']"
      ]
     },
     "execution_count": 30,
     "metadata": {},
     "output_type": "execute_result"
    }
   ],
   "source": [
    "joblib.dump(model, \"DecisionTree_model.joblib\")"
   ]
  },
  {
   "cell_type": "code",
   "execution_count": null,
   "id": "3af4a437",
   "metadata": {
    "papermill": {
     "duration": 0.013151,
     "end_time": "2025-02-18T11:23:20.409287",
     "exception": false,
     "start_time": "2025-02-18T11:23:20.396136",
     "status": "completed"
    },
    "tags": []
   },
   "outputs": [],
   "source": []
  }
 ],
 "metadata": {
  "kaggle": {
   "accelerator": "none",
   "dataSources": [
    {
     "datasetId": 1582403,
     "sourceId": 2603715,
     "sourceType": "datasetVersion"
    }
   ],
   "dockerImageVersionId": 30886,
   "isGpuEnabled": false,
   "isInternetEnabled": false,
   "language": "python",
   "sourceType": "notebook"
  },
  "kernelspec": {
   "display_name": "Python 3",
   "language": "python",
   "name": "python3"
  },
  "language_info": {
   "codemirror_mode": {
    "name": "ipython",
    "version": 3
   },
   "file_extension": ".py",
   "mimetype": "text/x-python",
   "name": "python",
   "nbconvert_exporter": "python",
   "pygments_lexer": "ipython3",
   "version": "3.10.12"
  },
  "papermill": {
   "default_parameters": {},
   "duration": 10.140364,
   "end_time": "2025-02-18T11:23:21.144660",
   "environment_variables": {},
   "exception": null,
   "input_path": "__notebook__.ipynb",
   "output_path": "__notebook__.ipynb",
   "parameters": {},
   "start_time": "2025-02-18T11:23:11.004296",
   "version": "2.6.0"
  }
 },
 "nbformat": 4,
 "nbformat_minor": 5
}
